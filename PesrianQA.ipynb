{
  "nbformat": 4,
  "nbformat_minor": 0,
  "metadata": {
    "colab": {
      "provenance": [],
      "gpuType": "T4",
      "authorship_tag": "ABX9TyPDu2g9gMpsCFWTlrkmysv8",
      "include_colab_link": true
    },
    "kernelspec": {
      "name": "python3",
      "display_name": "Python 3"
    },
    "language_info": {
      "name": "python"
    },
    "widgets": {
      "application/vnd.jupyter.widget-state+json": {
        "e9366ccefcdc47a5a1d05a1ca0f6db69": {
          "model_module": "@jupyter-widgets/controls",
          "model_name": "VBoxModel",
          "model_module_version": "1.5.0",
          "state": {
            "_dom_classes": [],
            "_model_module": "@jupyter-widgets/controls",
            "_model_module_version": "1.5.0",
            "_model_name": "VBoxModel",
            "_view_count": null,
            "_view_module": "@jupyter-widgets/controls",
            "_view_module_version": "1.5.0",
            "_view_name": "VBoxView",
            "box_style": "",
            "children": [
              "IPY_MODEL_df294b53d48f49ddb222441aeefa575b",
              "IPY_MODEL_b0f2846101514981b962bcd52324d1d0",
              "IPY_MODEL_36a567581b3a41128a161107a0481c3e",
              "IPY_MODEL_ff151af96d384ca7841a6ebadf956309"
            ],
            "layout": "IPY_MODEL_20dc8292277c43adb0f3c31293b10d30"
          }
        },
        "550530b8a1db45f7b4a36ab03e33db50": {
          "model_module": "@jupyter-widgets/controls",
          "model_name": "HTMLModel",
          "model_module_version": "1.5.0",
          "state": {
            "_dom_classes": [],
            "_model_module": "@jupyter-widgets/controls",
            "_model_module_version": "1.5.0",
            "_model_name": "HTMLModel",
            "_view_count": null,
            "_view_module": "@jupyter-widgets/controls",
            "_view_module_version": "1.5.0",
            "_view_name": "HTMLView",
            "description": "",
            "description_tooltip": null,
            "layout": "IPY_MODEL_f5430451993d46548c77099dbf6e14d7",
            "placeholder": "​",
            "style": "IPY_MODEL_d2153eec53dc44d5aa06b7ee8a2455a4",
            "value": "<center> <img\nsrc=https://huggingface.co/front/assets/huggingface_logo-noborder.svg\nalt='Hugging Face'> <br> Copy a token from <a\nhref=\"https://huggingface.co/settings/tokens\" target=\"_blank\">your Hugging Face\ntokens page</a> and paste it below. <br> Immediately click login after copying\nyour token or it might be stored in plain text in this notebook file. </center>"
          }
        },
        "d5d43fafa0ac4aff84dbe2319e42f860": {
          "model_module": "@jupyter-widgets/controls",
          "model_name": "PasswordModel",
          "model_module_version": "1.5.0",
          "state": {
            "_dom_classes": [],
            "_model_module": "@jupyter-widgets/controls",
            "_model_module_version": "1.5.0",
            "_model_name": "PasswordModel",
            "_view_count": null,
            "_view_module": "@jupyter-widgets/controls",
            "_view_module_version": "1.5.0",
            "_view_name": "PasswordView",
            "continuous_update": true,
            "description": "Token:",
            "description_tooltip": null,
            "disabled": false,
            "layout": "IPY_MODEL_ae058491ee0e49a1b0403a7b88f82c48",
            "placeholder": "​",
            "style": "IPY_MODEL_dfb0061c7a4749f29dc3f6cfaaa04215",
            "value": ""
          }
        },
        "c0abbf8248b849bea1e5a3d55244d89a": {
          "model_module": "@jupyter-widgets/controls",
          "model_name": "CheckboxModel",
          "model_module_version": "1.5.0",
          "state": {
            "_dom_classes": [],
            "_model_module": "@jupyter-widgets/controls",
            "_model_module_version": "1.5.0",
            "_model_name": "CheckboxModel",
            "_view_count": null,
            "_view_module": "@jupyter-widgets/controls",
            "_view_module_version": "1.5.0",
            "_view_name": "CheckboxView",
            "description": "Add token as git credential?",
            "description_tooltip": null,
            "disabled": false,
            "indent": true,
            "layout": "IPY_MODEL_1343e03211524b4a875c258d86a1d545",
            "style": "IPY_MODEL_c98563c5ff5d4f7dafa1ca5e6731e9ef",
            "value": true
          }
        },
        "251221d312e54993afa617a8b0d43682": {
          "model_module": "@jupyter-widgets/controls",
          "model_name": "ButtonModel",
          "model_module_version": "1.5.0",
          "state": {
            "_dom_classes": [],
            "_model_module": "@jupyter-widgets/controls",
            "_model_module_version": "1.5.0",
            "_model_name": "ButtonModel",
            "_view_count": null,
            "_view_module": "@jupyter-widgets/controls",
            "_view_module_version": "1.5.0",
            "_view_name": "ButtonView",
            "button_style": "",
            "description": "Login",
            "disabled": false,
            "icon": "",
            "layout": "IPY_MODEL_d9ad149db81c427d89f28ad4eb9d2be8",
            "style": "IPY_MODEL_a7c425c35a4f485b8562d26277cb4c70",
            "tooltip": ""
          }
        },
        "cf4e851248aa49b098c62dd199b8648f": {
          "model_module": "@jupyter-widgets/controls",
          "model_name": "HTMLModel",
          "model_module_version": "1.5.0",
          "state": {
            "_dom_classes": [],
            "_model_module": "@jupyter-widgets/controls",
            "_model_module_version": "1.5.0",
            "_model_name": "HTMLModel",
            "_view_count": null,
            "_view_module": "@jupyter-widgets/controls",
            "_view_module_version": "1.5.0",
            "_view_name": "HTMLView",
            "description": "",
            "description_tooltip": null,
            "layout": "IPY_MODEL_f29b1d48e4304554a753ae27f853ba43",
            "placeholder": "​",
            "style": "IPY_MODEL_c570e87462a94075b985fc21f11258da",
            "value": "\n<b>Pro Tip:</b> If you don't already have one, you can create a dedicated\n'notebooks' token with 'write' access, that you can then easily reuse for all\nnotebooks. </center>"
          }
        },
        "20dc8292277c43adb0f3c31293b10d30": {
          "model_module": "@jupyter-widgets/base",
          "model_name": "LayoutModel",
          "model_module_version": "1.2.0",
          "state": {
            "_model_module": "@jupyter-widgets/base",
            "_model_module_version": "1.2.0",
            "_model_name": "LayoutModel",
            "_view_count": null,
            "_view_module": "@jupyter-widgets/base",
            "_view_module_version": "1.2.0",
            "_view_name": "LayoutView",
            "align_content": null,
            "align_items": "center",
            "align_self": null,
            "border": null,
            "bottom": null,
            "display": "flex",
            "flex": null,
            "flex_flow": "column",
            "grid_area": null,
            "grid_auto_columns": null,
            "grid_auto_flow": null,
            "grid_auto_rows": null,
            "grid_column": null,
            "grid_gap": null,
            "grid_row": null,
            "grid_template_areas": null,
            "grid_template_columns": null,
            "grid_template_rows": null,
            "height": null,
            "justify_content": null,
            "justify_items": null,
            "left": null,
            "margin": null,
            "max_height": null,
            "max_width": null,
            "min_height": null,
            "min_width": null,
            "object_fit": null,
            "object_position": null,
            "order": null,
            "overflow": null,
            "overflow_x": null,
            "overflow_y": null,
            "padding": null,
            "right": null,
            "top": null,
            "visibility": null,
            "width": "50%"
          }
        },
        "f5430451993d46548c77099dbf6e14d7": {
          "model_module": "@jupyter-widgets/base",
          "model_name": "LayoutModel",
          "model_module_version": "1.2.0",
          "state": {
            "_model_module": "@jupyter-widgets/base",
            "_model_module_version": "1.2.0",
            "_model_name": "LayoutModel",
            "_view_count": null,
            "_view_module": "@jupyter-widgets/base",
            "_view_module_version": "1.2.0",
            "_view_name": "LayoutView",
            "align_content": null,
            "align_items": null,
            "align_self": null,
            "border": null,
            "bottom": null,
            "display": null,
            "flex": null,
            "flex_flow": null,
            "grid_area": null,
            "grid_auto_columns": null,
            "grid_auto_flow": null,
            "grid_auto_rows": null,
            "grid_column": null,
            "grid_gap": null,
            "grid_row": null,
            "grid_template_areas": null,
            "grid_template_columns": null,
            "grid_template_rows": null,
            "height": null,
            "justify_content": null,
            "justify_items": null,
            "left": null,
            "margin": null,
            "max_height": null,
            "max_width": null,
            "min_height": null,
            "min_width": null,
            "object_fit": null,
            "object_position": null,
            "order": null,
            "overflow": null,
            "overflow_x": null,
            "overflow_y": null,
            "padding": null,
            "right": null,
            "top": null,
            "visibility": null,
            "width": null
          }
        },
        "d2153eec53dc44d5aa06b7ee8a2455a4": {
          "model_module": "@jupyter-widgets/controls",
          "model_name": "DescriptionStyleModel",
          "model_module_version": "1.5.0",
          "state": {
            "_model_module": "@jupyter-widgets/controls",
            "_model_module_version": "1.5.0",
            "_model_name": "DescriptionStyleModel",
            "_view_count": null,
            "_view_module": "@jupyter-widgets/base",
            "_view_module_version": "1.2.0",
            "_view_name": "StyleView",
            "description_width": ""
          }
        },
        "ae058491ee0e49a1b0403a7b88f82c48": {
          "model_module": "@jupyter-widgets/base",
          "model_name": "LayoutModel",
          "model_module_version": "1.2.0",
          "state": {
            "_model_module": "@jupyter-widgets/base",
            "_model_module_version": "1.2.0",
            "_model_name": "LayoutModel",
            "_view_count": null,
            "_view_module": "@jupyter-widgets/base",
            "_view_module_version": "1.2.0",
            "_view_name": "LayoutView",
            "align_content": null,
            "align_items": null,
            "align_self": null,
            "border": null,
            "bottom": null,
            "display": null,
            "flex": null,
            "flex_flow": null,
            "grid_area": null,
            "grid_auto_columns": null,
            "grid_auto_flow": null,
            "grid_auto_rows": null,
            "grid_column": null,
            "grid_gap": null,
            "grid_row": null,
            "grid_template_areas": null,
            "grid_template_columns": null,
            "grid_template_rows": null,
            "height": null,
            "justify_content": null,
            "justify_items": null,
            "left": null,
            "margin": null,
            "max_height": null,
            "max_width": null,
            "min_height": null,
            "min_width": null,
            "object_fit": null,
            "object_position": null,
            "order": null,
            "overflow": null,
            "overflow_x": null,
            "overflow_y": null,
            "padding": null,
            "right": null,
            "top": null,
            "visibility": null,
            "width": null
          }
        },
        "dfb0061c7a4749f29dc3f6cfaaa04215": {
          "model_module": "@jupyter-widgets/controls",
          "model_name": "DescriptionStyleModel",
          "model_module_version": "1.5.0",
          "state": {
            "_model_module": "@jupyter-widgets/controls",
            "_model_module_version": "1.5.0",
            "_model_name": "DescriptionStyleModel",
            "_view_count": null,
            "_view_module": "@jupyter-widgets/base",
            "_view_module_version": "1.2.0",
            "_view_name": "StyleView",
            "description_width": ""
          }
        },
        "1343e03211524b4a875c258d86a1d545": {
          "model_module": "@jupyter-widgets/base",
          "model_name": "LayoutModel",
          "model_module_version": "1.2.0",
          "state": {
            "_model_module": "@jupyter-widgets/base",
            "_model_module_version": "1.2.0",
            "_model_name": "LayoutModel",
            "_view_count": null,
            "_view_module": "@jupyter-widgets/base",
            "_view_module_version": "1.2.0",
            "_view_name": "LayoutView",
            "align_content": null,
            "align_items": null,
            "align_self": null,
            "border": null,
            "bottom": null,
            "display": null,
            "flex": null,
            "flex_flow": null,
            "grid_area": null,
            "grid_auto_columns": null,
            "grid_auto_flow": null,
            "grid_auto_rows": null,
            "grid_column": null,
            "grid_gap": null,
            "grid_row": null,
            "grid_template_areas": null,
            "grid_template_columns": null,
            "grid_template_rows": null,
            "height": null,
            "justify_content": null,
            "justify_items": null,
            "left": null,
            "margin": null,
            "max_height": null,
            "max_width": null,
            "min_height": null,
            "min_width": null,
            "object_fit": null,
            "object_position": null,
            "order": null,
            "overflow": null,
            "overflow_x": null,
            "overflow_y": null,
            "padding": null,
            "right": null,
            "top": null,
            "visibility": null,
            "width": null
          }
        },
        "c98563c5ff5d4f7dafa1ca5e6731e9ef": {
          "model_module": "@jupyter-widgets/controls",
          "model_name": "DescriptionStyleModel",
          "model_module_version": "1.5.0",
          "state": {
            "_model_module": "@jupyter-widgets/controls",
            "_model_module_version": "1.5.0",
            "_model_name": "DescriptionStyleModel",
            "_view_count": null,
            "_view_module": "@jupyter-widgets/base",
            "_view_module_version": "1.2.0",
            "_view_name": "StyleView",
            "description_width": ""
          }
        },
        "d9ad149db81c427d89f28ad4eb9d2be8": {
          "model_module": "@jupyter-widgets/base",
          "model_name": "LayoutModel",
          "model_module_version": "1.2.0",
          "state": {
            "_model_module": "@jupyter-widgets/base",
            "_model_module_version": "1.2.0",
            "_model_name": "LayoutModel",
            "_view_count": null,
            "_view_module": "@jupyter-widgets/base",
            "_view_module_version": "1.2.0",
            "_view_name": "LayoutView",
            "align_content": null,
            "align_items": null,
            "align_self": null,
            "border": null,
            "bottom": null,
            "display": null,
            "flex": null,
            "flex_flow": null,
            "grid_area": null,
            "grid_auto_columns": null,
            "grid_auto_flow": null,
            "grid_auto_rows": null,
            "grid_column": null,
            "grid_gap": null,
            "grid_row": null,
            "grid_template_areas": null,
            "grid_template_columns": null,
            "grid_template_rows": null,
            "height": null,
            "justify_content": null,
            "justify_items": null,
            "left": null,
            "margin": null,
            "max_height": null,
            "max_width": null,
            "min_height": null,
            "min_width": null,
            "object_fit": null,
            "object_position": null,
            "order": null,
            "overflow": null,
            "overflow_x": null,
            "overflow_y": null,
            "padding": null,
            "right": null,
            "top": null,
            "visibility": null,
            "width": null
          }
        },
        "a7c425c35a4f485b8562d26277cb4c70": {
          "model_module": "@jupyter-widgets/controls",
          "model_name": "ButtonStyleModel",
          "model_module_version": "1.5.0",
          "state": {
            "_model_module": "@jupyter-widgets/controls",
            "_model_module_version": "1.5.0",
            "_model_name": "ButtonStyleModel",
            "_view_count": null,
            "_view_module": "@jupyter-widgets/base",
            "_view_module_version": "1.2.0",
            "_view_name": "StyleView",
            "button_color": null,
            "font_weight": ""
          }
        },
        "f29b1d48e4304554a753ae27f853ba43": {
          "model_module": "@jupyter-widgets/base",
          "model_name": "LayoutModel",
          "model_module_version": "1.2.0",
          "state": {
            "_model_module": "@jupyter-widgets/base",
            "_model_module_version": "1.2.0",
            "_model_name": "LayoutModel",
            "_view_count": null,
            "_view_module": "@jupyter-widgets/base",
            "_view_module_version": "1.2.0",
            "_view_name": "LayoutView",
            "align_content": null,
            "align_items": null,
            "align_self": null,
            "border": null,
            "bottom": null,
            "display": null,
            "flex": null,
            "flex_flow": null,
            "grid_area": null,
            "grid_auto_columns": null,
            "grid_auto_flow": null,
            "grid_auto_rows": null,
            "grid_column": null,
            "grid_gap": null,
            "grid_row": null,
            "grid_template_areas": null,
            "grid_template_columns": null,
            "grid_template_rows": null,
            "height": null,
            "justify_content": null,
            "justify_items": null,
            "left": null,
            "margin": null,
            "max_height": null,
            "max_width": null,
            "min_height": null,
            "min_width": null,
            "object_fit": null,
            "object_position": null,
            "order": null,
            "overflow": null,
            "overflow_x": null,
            "overflow_y": null,
            "padding": null,
            "right": null,
            "top": null,
            "visibility": null,
            "width": null
          }
        },
        "c570e87462a94075b985fc21f11258da": {
          "model_module": "@jupyter-widgets/controls",
          "model_name": "DescriptionStyleModel",
          "model_module_version": "1.5.0",
          "state": {
            "_model_module": "@jupyter-widgets/controls",
            "_model_module_version": "1.5.0",
            "_model_name": "DescriptionStyleModel",
            "_view_count": null,
            "_view_module": "@jupyter-widgets/base",
            "_view_module_version": "1.2.0",
            "_view_name": "StyleView",
            "description_width": ""
          }
        },
        "6608f9ec1f214aedbc31a0b7118de4f5": {
          "model_module": "@jupyter-widgets/controls",
          "model_name": "LabelModel",
          "model_module_version": "1.5.0",
          "state": {
            "_dom_classes": [],
            "_model_module": "@jupyter-widgets/controls",
            "_model_module_version": "1.5.0",
            "_model_name": "LabelModel",
            "_view_count": null,
            "_view_module": "@jupyter-widgets/controls",
            "_view_module_version": "1.5.0",
            "_view_name": "LabelView",
            "description": "",
            "description_tooltip": null,
            "layout": "IPY_MODEL_a2f3032fb999411983242434073ae02f",
            "placeholder": "​",
            "style": "IPY_MODEL_4c69d595f6d04be78bcf0c0509d6e1fd",
            "value": "Connecting..."
          }
        },
        "a2f3032fb999411983242434073ae02f": {
          "model_module": "@jupyter-widgets/base",
          "model_name": "LayoutModel",
          "model_module_version": "1.2.0",
          "state": {
            "_model_module": "@jupyter-widgets/base",
            "_model_module_version": "1.2.0",
            "_model_name": "LayoutModel",
            "_view_count": null,
            "_view_module": "@jupyter-widgets/base",
            "_view_module_version": "1.2.0",
            "_view_name": "LayoutView",
            "align_content": null,
            "align_items": null,
            "align_self": null,
            "border": null,
            "bottom": null,
            "display": null,
            "flex": null,
            "flex_flow": null,
            "grid_area": null,
            "grid_auto_columns": null,
            "grid_auto_flow": null,
            "grid_auto_rows": null,
            "grid_column": null,
            "grid_gap": null,
            "grid_row": null,
            "grid_template_areas": null,
            "grid_template_columns": null,
            "grid_template_rows": null,
            "height": null,
            "justify_content": null,
            "justify_items": null,
            "left": null,
            "margin": null,
            "max_height": null,
            "max_width": null,
            "min_height": null,
            "min_width": null,
            "object_fit": null,
            "object_position": null,
            "order": null,
            "overflow": null,
            "overflow_x": null,
            "overflow_y": null,
            "padding": null,
            "right": null,
            "top": null,
            "visibility": null,
            "width": null
          }
        },
        "4c69d595f6d04be78bcf0c0509d6e1fd": {
          "model_module": "@jupyter-widgets/controls",
          "model_name": "DescriptionStyleModel",
          "model_module_version": "1.5.0",
          "state": {
            "_model_module": "@jupyter-widgets/controls",
            "_model_module_version": "1.5.0",
            "_model_name": "DescriptionStyleModel",
            "_view_count": null,
            "_view_module": "@jupyter-widgets/base",
            "_view_module_version": "1.2.0",
            "_view_name": "StyleView",
            "description_width": ""
          }
        },
        "df294b53d48f49ddb222441aeefa575b": {
          "model_module": "@jupyter-widgets/controls",
          "model_name": "LabelModel",
          "model_module_version": "1.5.0",
          "state": {
            "_dom_classes": [],
            "_model_module": "@jupyter-widgets/controls",
            "_model_module_version": "1.5.0",
            "_model_name": "LabelModel",
            "_view_count": null,
            "_view_module": "@jupyter-widgets/controls",
            "_view_module_version": "1.5.0",
            "_view_name": "LabelView",
            "description": "",
            "description_tooltip": null,
            "layout": "IPY_MODEL_91729eb269c54e2b91ac02af62899fc3",
            "placeholder": "​",
            "style": "IPY_MODEL_6982765fce774bd9bb951c41352e4ab8",
            "value": "Token is valid (permission: write)."
          }
        },
        "b0f2846101514981b962bcd52324d1d0": {
          "model_module": "@jupyter-widgets/controls",
          "model_name": "LabelModel",
          "model_module_version": "1.5.0",
          "state": {
            "_dom_classes": [],
            "_model_module": "@jupyter-widgets/controls",
            "_model_module_version": "1.5.0",
            "_model_name": "LabelModel",
            "_view_count": null,
            "_view_module": "@jupyter-widgets/controls",
            "_view_module_version": "1.5.0",
            "_view_name": "LabelView",
            "description": "",
            "description_tooltip": null,
            "layout": "IPY_MODEL_8f478d9539ad44f3b5010b945c229464",
            "placeholder": "​",
            "style": "IPY_MODEL_89dddc9b921b44ea927ed2b5156dc556",
            "value": "Your token has been saved in your configured git credential helpers (store)."
          }
        },
        "36a567581b3a41128a161107a0481c3e": {
          "model_module": "@jupyter-widgets/controls",
          "model_name": "LabelModel",
          "model_module_version": "1.5.0",
          "state": {
            "_dom_classes": [],
            "_model_module": "@jupyter-widgets/controls",
            "_model_module_version": "1.5.0",
            "_model_name": "LabelModel",
            "_view_count": null,
            "_view_module": "@jupyter-widgets/controls",
            "_view_module_version": "1.5.0",
            "_view_name": "LabelView",
            "description": "",
            "description_tooltip": null,
            "layout": "IPY_MODEL_183acd92529c484c90d0aa64fa0163e3",
            "placeholder": "​",
            "style": "IPY_MODEL_3f8e64b5207f4ba1b3cbd486b928dfa5",
            "value": "Your token has been saved to /root/.cache/huggingface/token"
          }
        },
        "ff151af96d384ca7841a6ebadf956309": {
          "model_module": "@jupyter-widgets/controls",
          "model_name": "LabelModel",
          "model_module_version": "1.5.0",
          "state": {
            "_dom_classes": [],
            "_model_module": "@jupyter-widgets/controls",
            "_model_module_version": "1.5.0",
            "_model_name": "LabelModel",
            "_view_count": null,
            "_view_module": "@jupyter-widgets/controls",
            "_view_module_version": "1.5.0",
            "_view_name": "LabelView",
            "description": "",
            "description_tooltip": null,
            "layout": "IPY_MODEL_5b943dabd8f04f28a6fd81f2917a789a",
            "placeholder": "​",
            "style": "IPY_MODEL_bd04cdf5283b4b9691483146a8bbc877",
            "value": "Login successful"
          }
        },
        "91729eb269c54e2b91ac02af62899fc3": {
          "model_module": "@jupyter-widgets/base",
          "model_name": "LayoutModel",
          "model_module_version": "1.2.0",
          "state": {
            "_model_module": "@jupyter-widgets/base",
            "_model_module_version": "1.2.0",
            "_model_name": "LayoutModel",
            "_view_count": null,
            "_view_module": "@jupyter-widgets/base",
            "_view_module_version": "1.2.0",
            "_view_name": "LayoutView",
            "align_content": null,
            "align_items": null,
            "align_self": null,
            "border": null,
            "bottom": null,
            "display": null,
            "flex": null,
            "flex_flow": null,
            "grid_area": null,
            "grid_auto_columns": null,
            "grid_auto_flow": null,
            "grid_auto_rows": null,
            "grid_column": null,
            "grid_gap": null,
            "grid_row": null,
            "grid_template_areas": null,
            "grid_template_columns": null,
            "grid_template_rows": null,
            "height": null,
            "justify_content": null,
            "justify_items": null,
            "left": null,
            "margin": null,
            "max_height": null,
            "max_width": null,
            "min_height": null,
            "min_width": null,
            "object_fit": null,
            "object_position": null,
            "order": null,
            "overflow": null,
            "overflow_x": null,
            "overflow_y": null,
            "padding": null,
            "right": null,
            "top": null,
            "visibility": null,
            "width": null
          }
        },
        "6982765fce774bd9bb951c41352e4ab8": {
          "model_module": "@jupyter-widgets/controls",
          "model_name": "DescriptionStyleModel",
          "model_module_version": "1.5.0",
          "state": {
            "_model_module": "@jupyter-widgets/controls",
            "_model_module_version": "1.5.0",
            "_model_name": "DescriptionStyleModel",
            "_view_count": null,
            "_view_module": "@jupyter-widgets/base",
            "_view_module_version": "1.2.0",
            "_view_name": "StyleView",
            "description_width": ""
          }
        },
        "8f478d9539ad44f3b5010b945c229464": {
          "model_module": "@jupyter-widgets/base",
          "model_name": "LayoutModel",
          "model_module_version": "1.2.0",
          "state": {
            "_model_module": "@jupyter-widgets/base",
            "_model_module_version": "1.2.0",
            "_model_name": "LayoutModel",
            "_view_count": null,
            "_view_module": "@jupyter-widgets/base",
            "_view_module_version": "1.2.0",
            "_view_name": "LayoutView",
            "align_content": null,
            "align_items": null,
            "align_self": null,
            "border": null,
            "bottom": null,
            "display": null,
            "flex": null,
            "flex_flow": null,
            "grid_area": null,
            "grid_auto_columns": null,
            "grid_auto_flow": null,
            "grid_auto_rows": null,
            "grid_column": null,
            "grid_gap": null,
            "grid_row": null,
            "grid_template_areas": null,
            "grid_template_columns": null,
            "grid_template_rows": null,
            "height": null,
            "justify_content": null,
            "justify_items": null,
            "left": null,
            "margin": null,
            "max_height": null,
            "max_width": null,
            "min_height": null,
            "min_width": null,
            "object_fit": null,
            "object_position": null,
            "order": null,
            "overflow": null,
            "overflow_x": null,
            "overflow_y": null,
            "padding": null,
            "right": null,
            "top": null,
            "visibility": null,
            "width": null
          }
        },
        "89dddc9b921b44ea927ed2b5156dc556": {
          "model_module": "@jupyter-widgets/controls",
          "model_name": "DescriptionStyleModel",
          "model_module_version": "1.5.0",
          "state": {
            "_model_module": "@jupyter-widgets/controls",
            "_model_module_version": "1.5.0",
            "_model_name": "DescriptionStyleModel",
            "_view_count": null,
            "_view_module": "@jupyter-widgets/base",
            "_view_module_version": "1.2.0",
            "_view_name": "StyleView",
            "description_width": ""
          }
        },
        "183acd92529c484c90d0aa64fa0163e3": {
          "model_module": "@jupyter-widgets/base",
          "model_name": "LayoutModel",
          "model_module_version": "1.2.0",
          "state": {
            "_model_module": "@jupyter-widgets/base",
            "_model_module_version": "1.2.0",
            "_model_name": "LayoutModel",
            "_view_count": null,
            "_view_module": "@jupyter-widgets/base",
            "_view_module_version": "1.2.0",
            "_view_name": "LayoutView",
            "align_content": null,
            "align_items": null,
            "align_self": null,
            "border": null,
            "bottom": null,
            "display": null,
            "flex": null,
            "flex_flow": null,
            "grid_area": null,
            "grid_auto_columns": null,
            "grid_auto_flow": null,
            "grid_auto_rows": null,
            "grid_column": null,
            "grid_gap": null,
            "grid_row": null,
            "grid_template_areas": null,
            "grid_template_columns": null,
            "grid_template_rows": null,
            "height": null,
            "justify_content": null,
            "justify_items": null,
            "left": null,
            "margin": null,
            "max_height": null,
            "max_width": null,
            "min_height": null,
            "min_width": null,
            "object_fit": null,
            "object_position": null,
            "order": null,
            "overflow": null,
            "overflow_x": null,
            "overflow_y": null,
            "padding": null,
            "right": null,
            "top": null,
            "visibility": null,
            "width": null
          }
        },
        "3f8e64b5207f4ba1b3cbd486b928dfa5": {
          "model_module": "@jupyter-widgets/controls",
          "model_name": "DescriptionStyleModel",
          "model_module_version": "1.5.0",
          "state": {
            "_model_module": "@jupyter-widgets/controls",
            "_model_module_version": "1.5.0",
            "_model_name": "DescriptionStyleModel",
            "_view_count": null,
            "_view_module": "@jupyter-widgets/base",
            "_view_module_version": "1.2.0",
            "_view_name": "StyleView",
            "description_width": ""
          }
        },
        "5b943dabd8f04f28a6fd81f2917a789a": {
          "model_module": "@jupyter-widgets/base",
          "model_name": "LayoutModel",
          "model_module_version": "1.2.0",
          "state": {
            "_model_module": "@jupyter-widgets/base",
            "_model_module_version": "1.2.0",
            "_model_name": "LayoutModel",
            "_view_count": null,
            "_view_module": "@jupyter-widgets/base",
            "_view_module_version": "1.2.0",
            "_view_name": "LayoutView",
            "align_content": null,
            "align_items": null,
            "align_self": null,
            "border": null,
            "bottom": null,
            "display": null,
            "flex": null,
            "flex_flow": null,
            "grid_area": null,
            "grid_auto_columns": null,
            "grid_auto_flow": null,
            "grid_auto_rows": null,
            "grid_column": null,
            "grid_gap": null,
            "grid_row": null,
            "grid_template_areas": null,
            "grid_template_columns": null,
            "grid_template_rows": null,
            "height": null,
            "justify_content": null,
            "justify_items": null,
            "left": null,
            "margin": null,
            "max_height": null,
            "max_width": null,
            "min_height": null,
            "min_width": null,
            "object_fit": null,
            "object_position": null,
            "order": null,
            "overflow": null,
            "overflow_x": null,
            "overflow_y": null,
            "padding": null,
            "right": null,
            "top": null,
            "visibility": null,
            "width": null
          }
        },
        "bd04cdf5283b4b9691483146a8bbc877": {
          "model_module": "@jupyter-widgets/controls",
          "model_name": "DescriptionStyleModel",
          "model_module_version": "1.5.0",
          "state": {
            "_model_module": "@jupyter-widgets/controls",
            "_model_module_version": "1.5.0",
            "_model_name": "DescriptionStyleModel",
            "_view_count": null,
            "_view_module": "@jupyter-widgets/base",
            "_view_module_version": "1.2.0",
            "_view_name": "StyleView",
            "description_width": ""
          }
        },
        "3557f4961ea847f9912fa6b2bbd82f1d": {
          "model_module": "@jupyter-widgets/controls",
          "model_name": "HBoxModel",
          "model_module_version": "1.5.0",
          "state": {
            "_dom_classes": [],
            "_model_module": "@jupyter-widgets/controls",
            "_model_module_version": "1.5.0",
            "_model_name": "HBoxModel",
            "_view_count": null,
            "_view_module": "@jupyter-widgets/controls",
            "_view_module_version": "1.5.0",
            "_view_name": "HBoxView",
            "box_style": "",
            "children": [
              "IPY_MODEL_afe1f8b64dc343c1aa4f27f871dd87ec",
              "IPY_MODEL_553c97b4054c4653a5ba483259de4e0d",
              "IPY_MODEL_7b646b1ec8da4562bc29da4ecf5cabe1"
            ],
            "layout": "IPY_MODEL_c3bf3a3021144e8eb89677e72d289693"
          }
        },
        "afe1f8b64dc343c1aa4f27f871dd87ec": {
          "model_module": "@jupyter-widgets/controls",
          "model_name": "HTMLModel",
          "model_module_version": "1.5.0",
          "state": {
            "_dom_classes": [],
            "_model_module": "@jupyter-widgets/controls",
            "_model_module_version": "1.5.0",
            "_model_name": "HTMLModel",
            "_view_count": null,
            "_view_module": "@jupyter-widgets/controls",
            "_view_module_version": "1.5.0",
            "_view_name": "HTMLView",
            "description": "",
            "description_tooltip": null,
            "layout": "IPY_MODEL_2b61f21dc6c548428ba20891fb72e82b",
            "placeholder": "​",
            "style": "IPY_MODEL_1fb0fbae0e8c44c7991b51151a74c978",
            "value": "Map: 100%"
          }
        },
        "553c97b4054c4653a5ba483259de4e0d": {
          "model_module": "@jupyter-widgets/controls",
          "model_name": "FloatProgressModel",
          "model_module_version": "1.5.0",
          "state": {
            "_dom_classes": [],
            "_model_module": "@jupyter-widgets/controls",
            "_model_module_version": "1.5.0",
            "_model_name": "FloatProgressModel",
            "_view_count": null,
            "_view_module": "@jupyter-widgets/controls",
            "_view_module_version": "1.5.0",
            "_view_name": "ProgressView",
            "bar_style": "success",
            "description": "",
            "description_tooltip": null,
            "layout": "IPY_MODEL_b000d477683e4e42ba747df45264324f",
            "max": 930,
            "min": 0,
            "orientation": "horizontal",
            "style": "IPY_MODEL_977ff802093a43d7a09c191abe462eb1",
            "value": 930
          }
        },
        "7b646b1ec8da4562bc29da4ecf5cabe1": {
          "model_module": "@jupyter-widgets/controls",
          "model_name": "HTMLModel",
          "model_module_version": "1.5.0",
          "state": {
            "_dom_classes": [],
            "_model_module": "@jupyter-widgets/controls",
            "_model_module_version": "1.5.0",
            "_model_name": "HTMLModel",
            "_view_count": null,
            "_view_module": "@jupyter-widgets/controls",
            "_view_module_version": "1.5.0",
            "_view_name": "HTMLView",
            "description": "",
            "description_tooltip": null,
            "layout": "IPY_MODEL_73f44b5bd7324cdb880adb924603d9cc",
            "placeholder": "​",
            "style": "IPY_MODEL_e39bb82498fa42c297d09ca11c76b468",
            "value": " 930/930 [00:01&lt;00:00, 503.01 examples/s]"
          }
        },
        "c3bf3a3021144e8eb89677e72d289693": {
          "model_module": "@jupyter-widgets/base",
          "model_name": "LayoutModel",
          "model_module_version": "1.2.0",
          "state": {
            "_model_module": "@jupyter-widgets/base",
            "_model_module_version": "1.2.0",
            "_model_name": "LayoutModel",
            "_view_count": null,
            "_view_module": "@jupyter-widgets/base",
            "_view_module_version": "1.2.0",
            "_view_name": "LayoutView",
            "align_content": null,
            "align_items": null,
            "align_self": null,
            "border": null,
            "bottom": null,
            "display": null,
            "flex": null,
            "flex_flow": null,
            "grid_area": null,
            "grid_auto_columns": null,
            "grid_auto_flow": null,
            "grid_auto_rows": null,
            "grid_column": null,
            "grid_gap": null,
            "grid_row": null,
            "grid_template_areas": null,
            "grid_template_columns": null,
            "grid_template_rows": null,
            "height": null,
            "justify_content": null,
            "justify_items": null,
            "left": null,
            "margin": null,
            "max_height": null,
            "max_width": null,
            "min_height": null,
            "min_width": null,
            "object_fit": null,
            "object_position": null,
            "order": null,
            "overflow": null,
            "overflow_x": null,
            "overflow_y": null,
            "padding": null,
            "right": null,
            "top": null,
            "visibility": null,
            "width": null
          }
        },
        "2b61f21dc6c548428ba20891fb72e82b": {
          "model_module": "@jupyter-widgets/base",
          "model_name": "LayoutModel",
          "model_module_version": "1.2.0",
          "state": {
            "_model_module": "@jupyter-widgets/base",
            "_model_module_version": "1.2.0",
            "_model_name": "LayoutModel",
            "_view_count": null,
            "_view_module": "@jupyter-widgets/base",
            "_view_module_version": "1.2.0",
            "_view_name": "LayoutView",
            "align_content": null,
            "align_items": null,
            "align_self": null,
            "border": null,
            "bottom": null,
            "display": null,
            "flex": null,
            "flex_flow": null,
            "grid_area": null,
            "grid_auto_columns": null,
            "grid_auto_flow": null,
            "grid_auto_rows": null,
            "grid_column": null,
            "grid_gap": null,
            "grid_row": null,
            "grid_template_areas": null,
            "grid_template_columns": null,
            "grid_template_rows": null,
            "height": null,
            "justify_content": null,
            "justify_items": null,
            "left": null,
            "margin": null,
            "max_height": null,
            "max_width": null,
            "min_height": null,
            "min_width": null,
            "object_fit": null,
            "object_position": null,
            "order": null,
            "overflow": null,
            "overflow_x": null,
            "overflow_y": null,
            "padding": null,
            "right": null,
            "top": null,
            "visibility": null,
            "width": null
          }
        },
        "1fb0fbae0e8c44c7991b51151a74c978": {
          "model_module": "@jupyter-widgets/controls",
          "model_name": "DescriptionStyleModel",
          "model_module_version": "1.5.0",
          "state": {
            "_model_module": "@jupyter-widgets/controls",
            "_model_module_version": "1.5.0",
            "_model_name": "DescriptionStyleModel",
            "_view_count": null,
            "_view_module": "@jupyter-widgets/base",
            "_view_module_version": "1.2.0",
            "_view_name": "StyleView",
            "description_width": ""
          }
        },
        "b000d477683e4e42ba747df45264324f": {
          "model_module": "@jupyter-widgets/base",
          "model_name": "LayoutModel",
          "model_module_version": "1.2.0",
          "state": {
            "_model_module": "@jupyter-widgets/base",
            "_model_module_version": "1.2.0",
            "_model_name": "LayoutModel",
            "_view_count": null,
            "_view_module": "@jupyter-widgets/base",
            "_view_module_version": "1.2.0",
            "_view_name": "LayoutView",
            "align_content": null,
            "align_items": null,
            "align_self": null,
            "border": null,
            "bottom": null,
            "display": null,
            "flex": null,
            "flex_flow": null,
            "grid_area": null,
            "grid_auto_columns": null,
            "grid_auto_flow": null,
            "grid_auto_rows": null,
            "grid_column": null,
            "grid_gap": null,
            "grid_row": null,
            "grid_template_areas": null,
            "grid_template_columns": null,
            "grid_template_rows": null,
            "height": null,
            "justify_content": null,
            "justify_items": null,
            "left": null,
            "margin": null,
            "max_height": null,
            "max_width": null,
            "min_height": null,
            "min_width": null,
            "object_fit": null,
            "object_position": null,
            "order": null,
            "overflow": null,
            "overflow_x": null,
            "overflow_y": null,
            "padding": null,
            "right": null,
            "top": null,
            "visibility": null,
            "width": null
          }
        },
        "977ff802093a43d7a09c191abe462eb1": {
          "model_module": "@jupyter-widgets/controls",
          "model_name": "ProgressStyleModel",
          "model_module_version": "1.5.0",
          "state": {
            "_model_module": "@jupyter-widgets/controls",
            "_model_module_version": "1.5.0",
            "_model_name": "ProgressStyleModel",
            "_view_count": null,
            "_view_module": "@jupyter-widgets/base",
            "_view_module_version": "1.2.0",
            "_view_name": "StyleView",
            "bar_color": null,
            "description_width": ""
          }
        },
        "73f44b5bd7324cdb880adb924603d9cc": {
          "model_module": "@jupyter-widgets/base",
          "model_name": "LayoutModel",
          "model_module_version": "1.2.0",
          "state": {
            "_model_module": "@jupyter-widgets/base",
            "_model_module_version": "1.2.0",
            "_model_name": "LayoutModel",
            "_view_count": null,
            "_view_module": "@jupyter-widgets/base",
            "_view_module_version": "1.2.0",
            "_view_name": "LayoutView",
            "align_content": null,
            "align_items": null,
            "align_self": null,
            "border": null,
            "bottom": null,
            "display": null,
            "flex": null,
            "flex_flow": null,
            "grid_area": null,
            "grid_auto_columns": null,
            "grid_auto_flow": null,
            "grid_auto_rows": null,
            "grid_column": null,
            "grid_gap": null,
            "grid_row": null,
            "grid_template_areas": null,
            "grid_template_columns": null,
            "grid_template_rows": null,
            "height": null,
            "justify_content": null,
            "justify_items": null,
            "left": null,
            "margin": null,
            "max_height": null,
            "max_width": null,
            "min_height": null,
            "min_width": null,
            "object_fit": null,
            "object_position": null,
            "order": null,
            "overflow": null,
            "overflow_x": null,
            "overflow_y": null,
            "padding": null,
            "right": null,
            "top": null,
            "visibility": null,
            "width": null
          }
        },
        "e39bb82498fa42c297d09ca11c76b468": {
          "model_module": "@jupyter-widgets/controls",
          "model_name": "DescriptionStyleModel",
          "model_module_version": "1.5.0",
          "state": {
            "_model_module": "@jupyter-widgets/controls",
            "_model_module_version": "1.5.0",
            "_model_name": "DescriptionStyleModel",
            "_view_count": null,
            "_view_module": "@jupyter-widgets/base",
            "_view_module_version": "1.2.0",
            "_view_name": "StyleView",
            "description_width": ""
          }
        },
        "7b05e8e9068a43c59e0e6be1163fb00f": {
          "model_module": "@jupyter-widgets/controls",
          "model_name": "HBoxModel",
          "model_module_version": "1.5.0",
          "state": {
            "_dom_classes": [],
            "_model_module": "@jupyter-widgets/controls",
            "_model_module_version": "1.5.0",
            "_model_name": "HBoxModel",
            "_view_count": null,
            "_view_module": "@jupyter-widgets/controls",
            "_view_module_version": "1.5.0",
            "_view_name": "HBoxView",
            "box_style": "",
            "children": [
              "IPY_MODEL_c15db60fc0dd442c84c508072c7d52a4",
              "IPY_MODEL_ca8e4f5e7a61421b98e34f88258782a9",
              "IPY_MODEL_295f8931481d4028a4c90142b37b4dcc"
            ],
            "layout": "IPY_MODEL_b1f10c2083d547a89108033ec0558535"
          }
        },
        "c15db60fc0dd442c84c508072c7d52a4": {
          "model_module": "@jupyter-widgets/controls",
          "model_name": "HTMLModel",
          "model_module_version": "1.5.0",
          "state": {
            "_dom_classes": [],
            "_model_module": "@jupyter-widgets/controls",
            "_model_module_version": "1.5.0",
            "_model_name": "HTMLModel",
            "_view_count": null,
            "_view_module": "@jupyter-widgets/controls",
            "_view_module_version": "1.5.0",
            "_view_name": "HTMLView",
            "description": "",
            "description_tooltip": null,
            "layout": "IPY_MODEL_a44d71f0525d41d191bb26168c792128",
            "placeholder": "​",
            "style": "IPY_MODEL_1fdb8d60649e407392af65c220dc5b7c",
            "value": "100%"
          }
        },
        "ca8e4f5e7a61421b98e34f88258782a9": {
          "model_module": "@jupyter-widgets/controls",
          "model_name": "FloatProgressModel",
          "model_module_version": "1.5.0",
          "state": {
            "_dom_classes": [],
            "_model_module": "@jupyter-widgets/controls",
            "_model_module_version": "1.5.0",
            "_model_name": "FloatProgressModel",
            "_view_count": null,
            "_view_module": "@jupyter-widgets/controls",
            "_view_module_version": "1.5.0",
            "_view_name": "ProgressView",
            "bar_style": "success",
            "description": "",
            "description_tooltip": null,
            "layout": "IPY_MODEL_f71057e3145c43e4a879c7c1f1ee7bb1",
            "max": 930,
            "min": 0,
            "orientation": "horizontal",
            "style": "IPY_MODEL_f82df7a9d43b4245b85a8def9cddb111",
            "value": 930
          }
        },
        "295f8931481d4028a4c90142b37b4dcc": {
          "model_module": "@jupyter-widgets/controls",
          "model_name": "HTMLModel",
          "model_module_version": "1.5.0",
          "state": {
            "_dom_classes": [],
            "_model_module": "@jupyter-widgets/controls",
            "_model_module_version": "1.5.0",
            "_model_name": "HTMLModel",
            "_view_count": null,
            "_view_module": "@jupyter-widgets/controls",
            "_view_module_version": "1.5.0",
            "_view_name": "HTMLView",
            "description": "",
            "description_tooltip": null,
            "layout": "IPY_MODEL_3adc269cdf764ed5b99b272c14589ac6",
            "placeholder": "​",
            "style": "IPY_MODEL_9f876a005c7447ca8cc3303640e12002",
            "value": " 930/930 [00:05&lt;00:00, 149.54it/s]"
          }
        },
        "b1f10c2083d547a89108033ec0558535": {
          "model_module": "@jupyter-widgets/base",
          "model_name": "LayoutModel",
          "model_module_version": "1.2.0",
          "state": {
            "_model_module": "@jupyter-widgets/base",
            "_model_module_version": "1.2.0",
            "_model_name": "LayoutModel",
            "_view_count": null,
            "_view_module": "@jupyter-widgets/base",
            "_view_module_version": "1.2.0",
            "_view_name": "LayoutView",
            "align_content": null,
            "align_items": null,
            "align_self": null,
            "border": null,
            "bottom": null,
            "display": null,
            "flex": null,
            "flex_flow": null,
            "grid_area": null,
            "grid_auto_columns": null,
            "grid_auto_flow": null,
            "grid_auto_rows": null,
            "grid_column": null,
            "grid_gap": null,
            "grid_row": null,
            "grid_template_areas": null,
            "grid_template_columns": null,
            "grid_template_rows": null,
            "height": null,
            "justify_content": null,
            "justify_items": null,
            "left": null,
            "margin": null,
            "max_height": null,
            "max_width": null,
            "min_height": null,
            "min_width": null,
            "object_fit": null,
            "object_position": null,
            "order": null,
            "overflow": null,
            "overflow_x": null,
            "overflow_y": null,
            "padding": null,
            "right": null,
            "top": null,
            "visibility": null,
            "width": null
          }
        },
        "a44d71f0525d41d191bb26168c792128": {
          "model_module": "@jupyter-widgets/base",
          "model_name": "LayoutModel",
          "model_module_version": "1.2.0",
          "state": {
            "_model_module": "@jupyter-widgets/base",
            "_model_module_version": "1.2.0",
            "_model_name": "LayoutModel",
            "_view_count": null,
            "_view_module": "@jupyter-widgets/base",
            "_view_module_version": "1.2.0",
            "_view_name": "LayoutView",
            "align_content": null,
            "align_items": null,
            "align_self": null,
            "border": null,
            "bottom": null,
            "display": null,
            "flex": null,
            "flex_flow": null,
            "grid_area": null,
            "grid_auto_columns": null,
            "grid_auto_flow": null,
            "grid_auto_rows": null,
            "grid_column": null,
            "grid_gap": null,
            "grid_row": null,
            "grid_template_areas": null,
            "grid_template_columns": null,
            "grid_template_rows": null,
            "height": null,
            "justify_content": null,
            "justify_items": null,
            "left": null,
            "margin": null,
            "max_height": null,
            "max_width": null,
            "min_height": null,
            "min_width": null,
            "object_fit": null,
            "object_position": null,
            "order": null,
            "overflow": null,
            "overflow_x": null,
            "overflow_y": null,
            "padding": null,
            "right": null,
            "top": null,
            "visibility": null,
            "width": null
          }
        },
        "1fdb8d60649e407392af65c220dc5b7c": {
          "model_module": "@jupyter-widgets/controls",
          "model_name": "DescriptionStyleModel",
          "model_module_version": "1.5.0",
          "state": {
            "_model_module": "@jupyter-widgets/controls",
            "_model_module_version": "1.5.0",
            "_model_name": "DescriptionStyleModel",
            "_view_count": null,
            "_view_module": "@jupyter-widgets/base",
            "_view_module_version": "1.2.0",
            "_view_name": "StyleView",
            "description_width": ""
          }
        },
        "f71057e3145c43e4a879c7c1f1ee7bb1": {
          "model_module": "@jupyter-widgets/base",
          "model_name": "LayoutModel",
          "model_module_version": "1.2.0",
          "state": {
            "_model_module": "@jupyter-widgets/base",
            "_model_module_version": "1.2.0",
            "_model_name": "LayoutModel",
            "_view_count": null,
            "_view_module": "@jupyter-widgets/base",
            "_view_module_version": "1.2.0",
            "_view_name": "LayoutView",
            "align_content": null,
            "align_items": null,
            "align_self": null,
            "border": null,
            "bottom": null,
            "display": null,
            "flex": null,
            "flex_flow": null,
            "grid_area": null,
            "grid_auto_columns": null,
            "grid_auto_flow": null,
            "grid_auto_rows": null,
            "grid_column": null,
            "grid_gap": null,
            "grid_row": null,
            "grid_template_areas": null,
            "grid_template_columns": null,
            "grid_template_rows": null,
            "height": null,
            "justify_content": null,
            "justify_items": null,
            "left": null,
            "margin": null,
            "max_height": null,
            "max_width": null,
            "min_height": null,
            "min_width": null,
            "object_fit": null,
            "object_position": null,
            "order": null,
            "overflow": null,
            "overflow_x": null,
            "overflow_y": null,
            "padding": null,
            "right": null,
            "top": null,
            "visibility": null,
            "width": null
          }
        },
        "f82df7a9d43b4245b85a8def9cddb111": {
          "model_module": "@jupyter-widgets/controls",
          "model_name": "ProgressStyleModel",
          "model_module_version": "1.5.0",
          "state": {
            "_model_module": "@jupyter-widgets/controls",
            "_model_module_version": "1.5.0",
            "_model_name": "ProgressStyleModel",
            "_view_count": null,
            "_view_module": "@jupyter-widgets/base",
            "_view_module_version": "1.2.0",
            "_view_name": "StyleView",
            "bar_color": null,
            "description_width": ""
          }
        },
        "3adc269cdf764ed5b99b272c14589ac6": {
          "model_module": "@jupyter-widgets/base",
          "model_name": "LayoutModel",
          "model_module_version": "1.2.0",
          "state": {
            "_model_module": "@jupyter-widgets/base",
            "_model_module_version": "1.2.0",
            "_model_name": "LayoutModel",
            "_view_count": null,
            "_view_module": "@jupyter-widgets/base",
            "_view_module_version": "1.2.0",
            "_view_name": "LayoutView",
            "align_content": null,
            "align_items": null,
            "align_self": null,
            "border": null,
            "bottom": null,
            "display": null,
            "flex": null,
            "flex_flow": null,
            "grid_area": null,
            "grid_auto_columns": null,
            "grid_auto_flow": null,
            "grid_auto_rows": null,
            "grid_column": null,
            "grid_gap": null,
            "grid_row": null,
            "grid_template_areas": null,
            "grid_template_columns": null,
            "grid_template_rows": null,
            "height": null,
            "justify_content": null,
            "justify_items": null,
            "left": null,
            "margin": null,
            "max_height": null,
            "max_width": null,
            "min_height": null,
            "min_width": null,
            "object_fit": null,
            "object_position": null,
            "order": null,
            "overflow": null,
            "overflow_x": null,
            "overflow_y": null,
            "padding": null,
            "right": null,
            "top": null,
            "visibility": null,
            "width": null
          }
        },
        "9f876a005c7447ca8cc3303640e12002": {
          "model_module": "@jupyter-widgets/controls",
          "model_name": "DescriptionStyleModel",
          "model_module_version": "1.5.0",
          "state": {
            "_model_module": "@jupyter-widgets/controls",
            "_model_module_version": "1.5.0",
            "_model_name": "DescriptionStyleModel",
            "_view_count": null,
            "_view_module": "@jupyter-widgets/base",
            "_view_module_version": "1.2.0",
            "_view_name": "StyleView",
            "description_width": ""
          }
        },
        "847e021b5b1440aeafefe0e87afae8fe": {
          "model_module": "@jupyter-widgets/controls",
          "model_name": "HBoxModel",
          "model_module_version": "1.5.0",
          "state": {
            "_dom_classes": [],
            "_model_module": "@jupyter-widgets/controls",
            "_model_module_version": "1.5.0",
            "_model_name": "HBoxModel",
            "_view_count": null,
            "_view_module": "@jupyter-widgets/controls",
            "_view_module_version": "1.5.0",
            "_view_name": "HBoxView",
            "box_style": "",
            "children": [
              "IPY_MODEL_c96e1854d6ec43b7be0ae7c13596238c",
              "IPY_MODEL_1046fba210d4413b9eb295bcc6927e5c",
              "IPY_MODEL_d3341222441c43b5b5d3c7bcd25fb45b"
            ],
            "layout": "IPY_MODEL_48e0053b18654ca7be4b56752b641948"
          }
        },
        "c96e1854d6ec43b7be0ae7c13596238c": {
          "model_module": "@jupyter-widgets/controls",
          "model_name": "HTMLModel",
          "model_module_version": "1.5.0",
          "state": {
            "_dom_classes": [],
            "_model_module": "@jupyter-widgets/controls",
            "_model_module_version": "1.5.0",
            "_model_name": "HTMLModel",
            "_view_count": null,
            "_view_module": "@jupyter-widgets/controls",
            "_view_module_version": "1.5.0",
            "_view_name": "HTMLView",
            "description": "",
            "description_tooltip": null,
            "layout": "IPY_MODEL_8217e6dbf6974aafb4ae27f0d417e24f",
            "placeholder": "​",
            "style": "IPY_MODEL_0a18e7f96a614d509219c7a97a58fc5a",
            "value": "Downloading builder script: "
          }
        },
        "1046fba210d4413b9eb295bcc6927e5c": {
          "model_module": "@jupyter-widgets/controls",
          "model_name": "FloatProgressModel",
          "model_module_version": "1.5.0",
          "state": {
            "_dom_classes": [],
            "_model_module": "@jupyter-widgets/controls",
            "_model_module_version": "1.5.0",
            "_model_name": "FloatProgressModel",
            "_view_count": null,
            "_view_module": "@jupyter-widgets/controls",
            "_view_module_version": "1.5.0",
            "_view_name": "ProgressView",
            "bar_style": "success",
            "description": "",
            "description_tooltip": null,
            "layout": "IPY_MODEL_9c6d03c99ca04bf8b456d143a80fe736",
            "max": 2253,
            "min": 0,
            "orientation": "horizontal",
            "style": "IPY_MODEL_e17311ad2f314415a869d4c7a3940031",
            "value": 2253
          }
        },
        "d3341222441c43b5b5d3c7bcd25fb45b": {
          "model_module": "@jupyter-widgets/controls",
          "model_name": "HTMLModel",
          "model_module_version": "1.5.0",
          "state": {
            "_dom_classes": [],
            "_model_module": "@jupyter-widgets/controls",
            "_model_module_version": "1.5.0",
            "_model_name": "HTMLModel",
            "_view_count": null,
            "_view_module": "@jupyter-widgets/controls",
            "_view_module_version": "1.5.0",
            "_view_name": "HTMLView",
            "description": "",
            "description_tooltip": null,
            "layout": "IPY_MODEL_934e6ed54f054f46b352749e02c69942",
            "placeholder": "​",
            "style": "IPY_MODEL_c949c1c04e7b4b3cbb2d8f25a0ac2361",
            "value": " 6.46k/? [00:00&lt;00:00, 241kB/s]"
          }
        },
        "48e0053b18654ca7be4b56752b641948": {
          "model_module": "@jupyter-widgets/base",
          "model_name": "LayoutModel",
          "model_module_version": "1.2.0",
          "state": {
            "_model_module": "@jupyter-widgets/base",
            "_model_module_version": "1.2.0",
            "_model_name": "LayoutModel",
            "_view_count": null,
            "_view_module": "@jupyter-widgets/base",
            "_view_module_version": "1.2.0",
            "_view_name": "LayoutView",
            "align_content": null,
            "align_items": null,
            "align_self": null,
            "border": null,
            "bottom": null,
            "display": null,
            "flex": null,
            "flex_flow": null,
            "grid_area": null,
            "grid_auto_columns": null,
            "grid_auto_flow": null,
            "grid_auto_rows": null,
            "grid_column": null,
            "grid_gap": null,
            "grid_row": null,
            "grid_template_areas": null,
            "grid_template_columns": null,
            "grid_template_rows": null,
            "height": null,
            "justify_content": null,
            "justify_items": null,
            "left": null,
            "margin": null,
            "max_height": null,
            "max_width": null,
            "min_height": null,
            "min_width": null,
            "object_fit": null,
            "object_position": null,
            "order": null,
            "overflow": null,
            "overflow_x": null,
            "overflow_y": null,
            "padding": null,
            "right": null,
            "top": null,
            "visibility": null,
            "width": null
          }
        },
        "8217e6dbf6974aafb4ae27f0d417e24f": {
          "model_module": "@jupyter-widgets/base",
          "model_name": "LayoutModel",
          "model_module_version": "1.2.0",
          "state": {
            "_model_module": "@jupyter-widgets/base",
            "_model_module_version": "1.2.0",
            "_model_name": "LayoutModel",
            "_view_count": null,
            "_view_module": "@jupyter-widgets/base",
            "_view_module_version": "1.2.0",
            "_view_name": "LayoutView",
            "align_content": null,
            "align_items": null,
            "align_self": null,
            "border": null,
            "bottom": null,
            "display": null,
            "flex": null,
            "flex_flow": null,
            "grid_area": null,
            "grid_auto_columns": null,
            "grid_auto_flow": null,
            "grid_auto_rows": null,
            "grid_column": null,
            "grid_gap": null,
            "grid_row": null,
            "grid_template_areas": null,
            "grid_template_columns": null,
            "grid_template_rows": null,
            "height": null,
            "justify_content": null,
            "justify_items": null,
            "left": null,
            "margin": null,
            "max_height": null,
            "max_width": null,
            "min_height": null,
            "min_width": null,
            "object_fit": null,
            "object_position": null,
            "order": null,
            "overflow": null,
            "overflow_x": null,
            "overflow_y": null,
            "padding": null,
            "right": null,
            "top": null,
            "visibility": null,
            "width": null
          }
        },
        "0a18e7f96a614d509219c7a97a58fc5a": {
          "model_module": "@jupyter-widgets/controls",
          "model_name": "DescriptionStyleModel",
          "model_module_version": "1.5.0",
          "state": {
            "_model_module": "@jupyter-widgets/controls",
            "_model_module_version": "1.5.0",
            "_model_name": "DescriptionStyleModel",
            "_view_count": null,
            "_view_module": "@jupyter-widgets/base",
            "_view_module_version": "1.2.0",
            "_view_name": "StyleView",
            "description_width": ""
          }
        },
        "9c6d03c99ca04bf8b456d143a80fe736": {
          "model_module": "@jupyter-widgets/base",
          "model_name": "LayoutModel",
          "model_module_version": "1.2.0",
          "state": {
            "_model_module": "@jupyter-widgets/base",
            "_model_module_version": "1.2.0",
            "_model_name": "LayoutModel",
            "_view_count": null,
            "_view_module": "@jupyter-widgets/base",
            "_view_module_version": "1.2.0",
            "_view_name": "LayoutView",
            "align_content": null,
            "align_items": null,
            "align_self": null,
            "border": null,
            "bottom": null,
            "display": null,
            "flex": null,
            "flex_flow": null,
            "grid_area": null,
            "grid_auto_columns": null,
            "grid_auto_flow": null,
            "grid_auto_rows": null,
            "grid_column": null,
            "grid_gap": null,
            "grid_row": null,
            "grid_template_areas": null,
            "grid_template_columns": null,
            "grid_template_rows": null,
            "height": null,
            "justify_content": null,
            "justify_items": null,
            "left": null,
            "margin": null,
            "max_height": null,
            "max_width": null,
            "min_height": null,
            "min_width": null,
            "object_fit": null,
            "object_position": null,
            "order": null,
            "overflow": null,
            "overflow_x": null,
            "overflow_y": null,
            "padding": null,
            "right": null,
            "top": null,
            "visibility": null,
            "width": null
          }
        },
        "e17311ad2f314415a869d4c7a3940031": {
          "model_module": "@jupyter-widgets/controls",
          "model_name": "ProgressStyleModel",
          "model_module_version": "1.5.0",
          "state": {
            "_model_module": "@jupyter-widgets/controls",
            "_model_module_version": "1.5.0",
            "_model_name": "ProgressStyleModel",
            "_view_count": null,
            "_view_module": "@jupyter-widgets/base",
            "_view_module_version": "1.2.0",
            "_view_name": "StyleView",
            "bar_color": null,
            "description_width": ""
          }
        },
        "934e6ed54f054f46b352749e02c69942": {
          "model_module": "@jupyter-widgets/base",
          "model_name": "LayoutModel",
          "model_module_version": "1.2.0",
          "state": {
            "_model_module": "@jupyter-widgets/base",
            "_model_module_version": "1.2.0",
            "_model_name": "LayoutModel",
            "_view_count": null,
            "_view_module": "@jupyter-widgets/base",
            "_view_module_version": "1.2.0",
            "_view_name": "LayoutView",
            "align_content": null,
            "align_items": null,
            "align_self": null,
            "border": null,
            "bottom": null,
            "display": null,
            "flex": null,
            "flex_flow": null,
            "grid_area": null,
            "grid_auto_columns": null,
            "grid_auto_flow": null,
            "grid_auto_rows": null,
            "grid_column": null,
            "grid_gap": null,
            "grid_row": null,
            "grid_template_areas": null,
            "grid_template_columns": null,
            "grid_template_rows": null,
            "height": null,
            "justify_content": null,
            "justify_items": null,
            "left": null,
            "margin": null,
            "max_height": null,
            "max_width": null,
            "min_height": null,
            "min_width": null,
            "object_fit": null,
            "object_position": null,
            "order": null,
            "overflow": null,
            "overflow_x": null,
            "overflow_y": null,
            "padding": null,
            "right": null,
            "top": null,
            "visibility": null,
            "width": null
          }
        },
        "c949c1c04e7b4b3cbb2d8f25a0ac2361": {
          "model_module": "@jupyter-widgets/controls",
          "model_name": "DescriptionStyleModel",
          "model_module_version": "1.5.0",
          "state": {
            "_model_module": "@jupyter-widgets/controls",
            "_model_module_version": "1.5.0",
            "_model_name": "DescriptionStyleModel",
            "_view_count": null,
            "_view_module": "@jupyter-widgets/base",
            "_view_module_version": "1.2.0",
            "_view_name": "StyleView",
            "description_width": ""
          }
        },
        "ed2d296c15b94c0c85fe9a0dae40c798": {
          "model_module": "@jupyter-widgets/controls",
          "model_name": "HBoxModel",
          "model_module_version": "1.5.0",
          "state": {
            "_dom_classes": [],
            "_model_module": "@jupyter-widgets/controls",
            "_model_module_version": "1.5.0",
            "_model_name": "HBoxModel",
            "_view_count": null,
            "_view_module": "@jupyter-widgets/controls",
            "_view_module_version": "1.5.0",
            "_view_name": "HBoxView",
            "box_style": "",
            "children": [
              "IPY_MODEL_36010462bcfb43fb8715d84de726b8a0",
              "IPY_MODEL_567448e5be064e73b6b78fb4c0bac361",
              "IPY_MODEL_b03345ec664346258e48e00918f99018"
            ],
            "layout": "IPY_MODEL_2d73acf0a10641f1b49b16475d0a84e3"
          }
        },
        "36010462bcfb43fb8715d84de726b8a0": {
          "model_module": "@jupyter-widgets/controls",
          "model_name": "HTMLModel",
          "model_module_version": "1.5.0",
          "state": {
            "_dom_classes": [],
            "_model_module": "@jupyter-widgets/controls",
            "_model_module_version": "1.5.0",
            "_model_name": "HTMLModel",
            "_view_count": null,
            "_view_module": "@jupyter-widgets/controls",
            "_view_module_version": "1.5.0",
            "_view_name": "HTMLView",
            "description": "",
            "description_tooltip": null,
            "layout": "IPY_MODEL_0dadd48bdf14402d9ae5ddf992ceee47",
            "placeholder": "​",
            "style": "IPY_MODEL_0d8a81df72694444914159b178dd0f54",
            "value": "Downloading extra modules: "
          }
        },
        "567448e5be064e73b6b78fb4c0bac361": {
          "model_module": "@jupyter-widgets/controls",
          "model_name": "FloatProgressModel",
          "model_module_version": "1.5.0",
          "state": {
            "_dom_classes": [],
            "_model_module": "@jupyter-widgets/controls",
            "_model_module_version": "1.5.0",
            "_model_name": "FloatProgressModel",
            "_view_count": null,
            "_view_module": "@jupyter-widgets/controls",
            "_view_module_version": "1.5.0",
            "_view_name": "ProgressView",
            "bar_style": "success",
            "description": "",
            "description_tooltip": null,
            "layout": "IPY_MODEL_7fb07981fc7a4d16840a62e09e8f4497",
            "max": 3187,
            "min": 0,
            "orientation": "horizontal",
            "style": "IPY_MODEL_fec0e18e67d948489cb7d78dff8c6e27",
            "value": 3187
          }
        },
        "b03345ec664346258e48e00918f99018": {
          "model_module": "@jupyter-widgets/controls",
          "model_name": "HTMLModel",
          "model_module_version": "1.5.0",
          "state": {
            "_dom_classes": [],
            "_model_module": "@jupyter-widgets/controls",
            "_model_module_version": "1.5.0",
            "_model_name": "HTMLModel",
            "_view_count": null,
            "_view_module": "@jupyter-widgets/controls",
            "_view_module_version": "1.5.0",
            "_view_name": "HTMLView",
            "description": "",
            "description_tooltip": null,
            "layout": "IPY_MODEL_c5aa83082cd34249a27dbbeb417f622a",
            "placeholder": "​",
            "style": "IPY_MODEL_a5d86a70a6a940a8b4d00d3f8ac49684",
            "value": " 11.3k/? [00:00&lt;00:00, 319kB/s]"
          }
        },
        "2d73acf0a10641f1b49b16475d0a84e3": {
          "model_module": "@jupyter-widgets/base",
          "model_name": "LayoutModel",
          "model_module_version": "1.2.0",
          "state": {
            "_model_module": "@jupyter-widgets/base",
            "_model_module_version": "1.2.0",
            "_model_name": "LayoutModel",
            "_view_count": null,
            "_view_module": "@jupyter-widgets/base",
            "_view_module_version": "1.2.0",
            "_view_name": "LayoutView",
            "align_content": null,
            "align_items": null,
            "align_self": null,
            "border": null,
            "bottom": null,
            "display": null,
            "flex": null,
            "flex_flow": null,
            "grid_area": null,
            "grid_auto_columns": null,
            "grid_auto_flow": null,
            "grid_auto_rows": null,
            "grid_column": null,
            "grid_gap": null,
            "grid_row": null,
            "grid_template_areas": null,
            "grid_template_columns": null,
            "grid_template_rows": null,
            "height": null,
            "justify_content": null,
            "justify_items": null,
            "left": null,
            "margin": null,
            "max_height": null,
            "max_width": null,
            "min_height": null,
            "min_width": null,
            "object_fit": null,
            "object_position": null,
            "order": null,
            "overflow": null,
            "overflow_x": null,
            "overflow_y": null,
            "padding": null,
            "right": null,
            "top": null,
            "visibility": null,
            "width": null
          }
        },
        "0dadd48bdf14402d9ae5ddf992ceee47": {
          "model_module": "@jupyter-widgets/base",
          "model_name": "LayoutModel",
          "model_module_version": "1.2.0",
          "state": {
            "_model_module": "@jupyter-widgets/base",
            "_model_module_version": "1.2.0",
            "_model_name": "LayoutModel",
            "_view_count": null,
            "_view_module": "@jupyter-widgets/base",
            "_view_module_version": "1.2.0",
            "_view_name": "LayoutView",
            "align_content": null,
            "align_items": null,
            "align_self": null,
            "border": null,
            "bottom": null,
            "display": null,
            "flex": null,
            "flex_flow": null,
            "grid_area": null,
            "grid_auto_columns": null,
            "grid_auto_flow": null,
            "grid_auto_rows": null,
            "grid_column": null,
            "grid_gap": null,
            "grid_row": null,
            "grid_template_areas": null,
            "grid_template_columns": null,
            "grid_template_rows": null,
            "height": null,
            "justify_content": null,
            "justify_items": null,
            "left": null,
            "margin": null,
            "max_height": null,
            "max_width": null,
            "min_height": null,
            "min_width": null,
            "object_fit": null,
            "object_position": null,
            "order": null,
            "overflow": null,
            "overflow_x": null,
            "overflow_y": null,
            "padding": null,
            "right": null,
            "top": null,
            "visibility": null,
            "width": null
          }
        },
        "0d8a81df72694444914159b178dd0f54": {
          "model_module": "@jupyter-widgets/controls",
          "model_name": "DescriptionStyleModel",
          "model_module_version": "1.5.0",
          "state": {
            "_model_module": "@jupyter-widgets/controls",
            "_model_module_version": "1.5.0",
            "_model_name": "DescriptionStyleModel",
            "_view_count": null,
            "_view_module": "@jupyter-widgets/base",
            "_view_module_version": "1.2.0",
            "_view_name": "StyleView",
            "description_width": ""
          }
        },
        "7fb07981fc7a4d16840a62e09e8f4497": {
          "model_module": "@jupyter-widgets/base",
          "model_name": "LayoutModel",
          "model_module_version": "1.2.0",
          "state": {
            "_model_module": "@jupyter-widgets/base",
            "_model_module_version": "1.2.0",
            "_model_name": "LayoutModel",
            "_view_count": null,
            "_view_module": "@jupyter-widgets/base",
            "_view_module_version": "1.2.0",
            "_view_name": "LayoutView",
            "align_content": null,
            "align_items": null,
            "align_self": null,
            "border": null,
            "bottom": null,
            "display": null,
            "flex": null,
            "flex_flow": null,
            "grid_area": null,
            "grid_auto_columns": null,
            "grid_auto_flow": null,
            "grid_auto_rows": null,
            "grid_column": null,
            "grid_gap": null,
            "grid_row": null,
            "grid_template_areas": null,
            "grid_template_columns": null,
            "grid_template_rows": null,
            "height": null,
            "justify_content": null,
            "justify_items": null,
            "left": null,
            "margin": null,
            "max_height": null,
            "max_width": null,
            "min_height": null,
            "min_width": null,
            "object_fit": null,
            "object_position": null,
            "order": null,
            "overflow": null,
            "overflow_x": null,
            "overflow_y": null,
            "padding": null,
            "right": null,
            "top": null,
            "visibility": null,
            "width": null
          }
        },
        "fec0e18e67d948489cb7d78dff8c6e27": {
          "model_module": "@jupyter-widgets/controls",
          "model_name": "ProgressStyleModel",
          "model_module_version": "1.5.0",
          "state": {
            "_model_module": "@jupyter-widgets/controls",
            "_model_module_version": "1.5.0",
            "_model_name": "ProgressStyleModel",
            "_view_count": null,
            "_view_module": "@jupyter-widgets/base",
            "_view_module_version": "1.2.0",
            "_view_name": "StyleView",
            "bar_color": null,
            "description_width": ""
          }
        },
        "c5aa83082cd34249a27dbbeb417f622a": {
          "model_module": "@jupyter-widgets/base",
          "model_name": "LayoutModel",
          "model_module_version": "1.2.0",
          "state": {
            "_model_module": "@jupyter-widgets/base",
            "_model_module_version": "1.2.0",
            "_model_name": "LayoutModel",
            "_view_count": null,
            "_view_module": "@jupyter-widgets/base",
            "_view_module_version": "1.2.0",
            "_view_name": "LayoutView",
            "align_content": null,
            "align_items": null,
            "align_self": null,
            "border": null,
            "bottom": null,
            "display": null,
            "flex": null,
            "flex_flow": null,
            "grid_area": null,
            "grid_auto_columns": null,
            "grid_auto_flow": null,
            "grid_auto_rows": null,
            "grid_column": null,
            "grid_gap": null,
            "grid_row": null,
            "grid_template_areas": null,
            "grid_template_columns": null,
            "grid_template_rows": null,
            "height": null,
            "justify_content": null,
            "justify_items": null,
            "left": null,
            "margin": null,
            "max_height": null,
            "max_width": null,
            "min_height": null,
            "min_width": null,
            "object_fit": null,
            "object_position": null,
            "order": null,
            "overflow": null,
            "overflow_x": null,
            "overflow_y": null,
            "padding": null,
            "right": null,
            "top": null,
            "visibility": null,
            "width": null
          }
        },
        "a5d86a70a6a940a8b4d00d3f8ac49684": {
          "model_module": "@jupyter-widgets/controls",
          "model_name": "DescriptionStyleModel",
          "model_module_version": "1.5.0",
          "state": {
            "_model_module": "@jupyter-widgets/controls",
            "_model_module_version": "1.5.0",
            "_model_name": "DescriptionStyleModel",
            "_view_count": null,
            "_view_module": "@jupyter-widgets/base",
            "_view_module_version": "1.2.0",
            "_view_name": "StyleView",
            "description_width": ""
          }
        }
      }
    },
    "accelerator": "GPU"
  },
  "cells": [
    {
      "cell_type": "markdown",
      "metadata": {
        "id": "view-in-github",
        "colab_type": "text"
      },
      "source": [
        "<a href=\"https://colab.research.google.com/github/aghadavood/NLP/blob/main/PesrianQA.ipynb\" target=\"_parent\"><img src=\"https://colab.research.google.com/assets/colab-badge.svg\" alt=\"Open In Colab\"/></a>"
      ]
    },
    {
      "cell_type": "code",
      "execution_count": 15,
      "metadata": {
        "id": "TdeiOUJc3H5L"
      },
      "outputs": [],
      "source": [
        "%%capture\n",
        "!pip install transformers"
      ]
    },
    {
      "cell_type": "code",
      "source": [
        "%%capture\n",
        "!pip install datasets"
      ],
      "metadata": {
        "id": "g1BlbHmy4F5Y"
      },
      "execution_count": 16,
      "outputs": []
    },
    {
      "cell_type": "code",
      "source": [
        "import transformers\n",
        "model_checkpoint = \"HooshvareLab/bert-fa-zwnj-base\"\n",
        "batch_size = 1"
      ],
      "metadata": {
        "id": "6GmzwKUB4Udl"
      },
      "execution_count": 18,
      "outputs": []
    },
    {
      "cell_type": "code",
      "source": [
        "from transformers import AutoTokenizer\n",
        "tokenizer = AutoTokenizer.from_pretrained(model_checkpoint)\n"
      ],
      "metadata": {
        "id": "tz3M-7-p4ygn",
        "colab": {
          "base_uri": "https://localhost:8080/"
        },
        "outputId": "ec81ee14-53b1-412b-9097-25c8294dee22"
      },
      "execution_count": 19,
      "outputs": [
        {
          "output_type": "stream",
          "name": "stderr",
          "text": [
            "/usr/local/lib/python3.10/dist-packages/huggingface_hub/utils/_token.py:88: UserWarning: \n",
            "The secret `HF_TOKEN` does not exist in your Colab secrets.\n",
            "To authenticate with the Hugging Face Hub, create a token in your settings tab (https://huggingface.co/settings/tokens), set it as secret in your Google Colab and restart your session.\n",
            "You will be able to reuse this secret in all of your notebooks.\n",
            "Please note that authentication is recommended but still optional to access public models or datasets.\n",
            "  warnings.warn(\n"
          ]
        }
      ]
    },
    {
      "cell_type": "code",
      "source": [
        "from huggingface_hub import notebook_login\n",
        "\n",
        "notebook_login()"
      ],
      "metadata": {
        "colab": {
          "base_uri": "https://localhost:8080/",
          "height": 145,
          "referenced_widgets": [
            "e9366ccefcdc47a5a1d05a1ca0f6db69",
            "550530b8a1db45f7b4a36ab03e33db50",
            "d5d43fafa0ac4aff84dbe2319e42f860",
            "c0abbf8248b849bea1e5a3d55244d89a",
            "251221d312e54993afa617a8b0d43682",
            "cf4e851248aa49b098c62dd199b8648f",
            "20dc8292277c43adb0f3c31293b10d30",
            "f5430451993d46548c77099dbf6e14d7",
            "d2153eec53dc44d5aa06b7ee8a2455a4",
            "ae058491ee0e49a1b0403a7b88f82c48",
            "dfb0061c7a4749f29dc3f6cfaaa04215",
            "1343e03211524b4a875c258d86a1d545",
            "c98563c5ff5d4f7dafa1ca5e6731e9ef",
            "d9ad149db81c427d89f28ad4eb9d2be8",
            "a7c425c35a4f485b8562d26277cb4c70",
            "f29b1d48e4304554a753ae27f853ba43",
            "c570e87462a94075b985fc21f11258da",
            "6608f9ec1f214aedbc31a0b7118de4f5",
            "a2f3032fb999411983242434073ae02f",
            "4c69d595f6d04be78bcf0c0509d6e1fd",
            "df294b53d48f49ddb222441aeefa575b",
            "b0f2846101514981b962bcd52324d1d0",
            "36a567581b3a41128a161107a0481c3e",
            "ff151af96d384ca7841a6ebadf956309",
            "91729eb269c54e2b91ac02af62899fc3",
            "6982765fce774bd9bb951c41352e4ab8",
            "8f478d9539ad44f3b5010b945c229464",
            "89dddc9b921b44ea927ed2b5156dc556",
            "183acd92529c484c90d0aa64fa0163e3",
            "3f8e64b5207f4ba1b3cbd486b928dfa5",
            "5b943dabd8f04f28a6fd81f2917a789a",
            "bd04cdf5283b4b9691483146a8bbc877"
          ]
        },
        "id": "PW0eP8dN6-6z",
        "outputId": "4ff83b60-2149-4673-fa76-c95068fffbda"
      },
      "execution_count": 20,
      "outputs": [
        {
          "output_type": "display_data",
          "data": {
            "text/plain": [
              "VBox(children=(HTML(value='<center> <img\\nsrc=https://huggingface.co/front/assets/huggingface_logo-noborder.sv…"
            ],
            "application/vnd.jupyter.widget-view+json": {
              "version_major": 2,
              "version_minor": 0,
              "model_id": "e9366ccefcdc47a5a1d05a1ca0f6db69"
            }
          },
          "metadata": {}
        }
      ]
    },
    {
      "cell_type": "code",
      "source": [
        "from datasets import load_dataset\n",
        "\n",
        "datasets = load_dataset(\"SajjadAyoubi/persian_qa\")"
      ],
      "metadata": {
        "id": "lVLWHaef9l0_"
      },
      "execution_count": 21,
      "outputs": []
    },
    {
      "cell_type": "code",
      "source": [
        "datasets"
      ],
      "metadata": {
        "colab": {
          "base_uri": "https://localhost:8080/"
        },
        "id": "-lv1AZbQ98wK",
        "outputId": "113e7491-3bc9-470e-ad1c-3f58ef183da2"
      },
      "execution_count": 22,
      "outputs": [
        {
          "output_type": "execute_result",
          "data": {
            "text/plain": [
              "DatasetDict({\n",
              "    train: Dataset({\n",
              "        features: ['id', 'title', 'context', 'question', 'answers'],\n",
              "        num_rows: 9008\n",
              "    })\n",
              "    validation: Dataset({\n",
              "        features: ['id', 'title', 'context', 'question', 'answers'],\n",
              "        num_rows: 930\n",
              "    })\n",
              "})"
            ]
          },
          "metadata": {},
          "execution_count": 22
        }
      ]
    },
    {
      "cell_type": "code",
      "source": [
        "from datasets import ClassLabel ,Sequence\n",
        "import random\n",
        "import pandas as pd\n",
        "from IPython.display import display , HTML\n",
        "\n",
        "def show_random_elements (dataset , num_examples = 10):\n",
        "  assert num_examples <= len(dataset) , \"can't pick more elements than there are in the dataset.\"\n",
        "  picks = []\n",
        "  for _ in range (num_examples):\n",
        "    pick = random.randint (0, len(dataset) - 1)\n",
        "    while pick in picks :\n",
        "      pick = random.randint(0 , len(dataset) - 1)\n",
        "    picks.append(pick)\n",
        "\n",
        "  df = pd.DataFrame(dataset[picks])\n",
        "  for column , typ in dataset.features.items():\n",
        "    if isinstance(typ , ClassLabel):\n",
        "      df[column] = df[column].transform (lambda i: typ.name[i])\n",
        "    elif isinstance(typ , Sequence) and isinstance(typ.feature , ClassLabel):\n",
        "        df[column] = df [column].transform(lambda x: [typ.feature.names[i] for i in x])\n",
        "  display (HTML(df.to_html()))\n",
        "\n"
      ],
      "metadata": {
        "id": "HB6zjGgo-C-a"
      },
      "execution_count": 23,
      "outputs": []
    },
    {
      "cell_type": "code",
      "source": [
        "show_random_elements(datasets[\"train\"])"
      ],
      "metadata": {
        "colab": {
          "base_uri": "https://localhost:8080/",
          "height": 1000
        },
        "id": "fJ_NdI_h_qkJ",
        "outputId": "4b75f771-0a7d-4810-d542-78907d472ef4"
      },
      "execution_count": 24,
      "outputs": [
        {
          "output_type": "display_data",
          "data": {
            "text/plain": [
              "<IPython.core.display.HTML object>"
            ],
            "text/html": [
              "<table border=\"1\" class=\"dataframe\">\n",
              "  <thead>\n",
              "    <tr style=\"text-align: right;\">\n",
              "      <th></th>\n",
              "      <th>id</th>\n",
              "      <th>title</th>\n",
              "      <th>context</th>\n",
              "      <th>question</th>\n",
              "      <th>answers</th>\n",
              "    </tr>\n",
              "  </thead>\n",
              "  <tbody>\n",
              "    <tr>\n",
              "      <th>0</th>\n",
              "      <td>6949</td>\n",
              "      <td>تهیه‌کننده فیلم</td>\n",
              "      <td>تهیه‌کننده فیلم کسی است که شرایط را برای ساخت فیلم فراهم می‌کند. راه‌اندازی، هماهنگ‌سازی، رسیدگی و کنترل کارهایی از جمله انتخاب قصه و فیلم‌نامه، برنامه‌ریزی تولید، جمع‌آوری پول مورد نیاز، به‌کارگیری افراد کلیدی و این‌گونه کارها بر عهدهٔ تهیه‌کننده است. تهیه‌کننده در تمام مراحل فرایند فیلم‌سازی و برنامه‌سازی از توسعه تا تکمیل پروژه نقش جدی دارد و همه عوامل فیلم اعم از کارگردان و بازیگران تا سایر عوامل به‌طور مستقیم یا غیر مستقیم زیرنظر تهیه‌کننده فیلم فعالیت می‌کنند. در فرایند برنامه‌سازی رادیویی و تلویزیونی، کلیدی‌ترین نقش را تهیه‌کننده اجرا می‌کند همچنین در ساخت انیمیشن نیز مهم‌ترین نقش بر عهده تهیه‌کننده است، بر خلاف فیلم‌سازی سینمایی که در آن وظیفهٔ مهم تشکیل فرم و ساختار فیلم اساساً متکی به دانش و خلاقیت کارگردان است. در نیمهٔ نخست قرن بیستم، تهیه‌کنندگان می‌بایست ادارهٔ کنترل هنری فیلم را هم انجام می‌دادند. در ایالات متحده با کنار گذاشتن دستگاه استودیویی هالیوود در دههٔ ۱۹۵۰، کنترل هنری کار بر عهدهٔ دستیاران کارگردان گذاشته شد.</td>\n",
              "      <td>تهیه کننده چیکار نمی کنه؟</td>\n",
              "      <td>{'text': [], 'answer_start': []}</td>\n",
              "    </tr>\n",
              "    <tr>\n",
              "      <th>1</th>\n",
              "      <td>2114</td>\n",
              "      <td>گردو</td>\n",
              "      <td>درخت گردو از درختان بسیار با ارزش و از پهن برگان است. مغز گردو دارای چند اسید آلی، مقدر کمی اسانس، اگزالات آهک و ویتامین‌های A ,B ,C ,D ,E می‌باشد. عصاره برگ درخت گردو خاصیت میکروب کشی و باکتری کشی دارد. درخت گردو بیشتر به روش پیوندزدن (پیوند اسکنه‌ای، پیوند شکمی با T معکوس به دلیل وجود شیرآبه) تکثیر می‌شود. گردو درختی بزرگ و گسترده است؛ و بیشتر از هر درخت دیگر به نور نیاز دارد. گردو در سن بلوغ میوه می‌دهد؛ و در قسمت‌هایی از درخت که نور بیشتری می‌تابد از باردهی بهتری برخوردار است؛ و در قسمت‌های داخلی که نور به آن نمی‌تابد گردوها ریز و کوچک می‌شوند. بعد از آنکه گردو کاشته شد و شروع به رشد کرد. (به اندازه ای رسید که بتوان آن را جابجا کرد) نهال گردو را با ریشه از خاک درآورده و در چاله‌های عمیق حفر شده در زمینی که خاکش از نظر کود دهی آماده شده‌است کاشته می‌شود. و با خاک اطرافش را می‌پوشانند. تا برای آبیاری درخت مشکلی ایجاد نشود . بهترین فصل کاشت درخت گردو اوایل بهار است. در کاشت درخت گردو باید دقت کرد که درخت ۲۰–۳۰ سانتیمتر بالاتر از کف جوی کاشته شود. تا در آینده به بیماری آب سیاه مبتلا نشود. در احداث باغ‌های جدید باید سعی کرد حتماً از نهال پیوندی استفاده شود.</td>\n",
              "      <td>روش کاشت گردو را بنویسید؟</td>\n",
              "      <td>{'text': ['بعد از آنکه گردو کاشته شد و شروع به رشد کرد. (به اندازه ای رسید که بتوان آن را جابجا کرد) نهال گردو را با ریشه از خاک درآورده و در چاله‌های عمیق حفر شده در زمینی که خاکش از نظر کود دهی آماده شده‌است کاشته می‌شود.'], 'answer_start': [555]}</td>\n",
              "    </tr>\n",
              "    <tr>\n",
              "      <th>2</th>\n",
              "      <td>2519</td>\n",
              "      <td>نهنگ قاتل</td>\n",
              "      <td>نهنگ قاتل که به نام اُرکا(Orcinus orca) نیز شناخته می‌شود، پستانداری دریایی است که به خانواده دلفین‌های اقیانوسی تعلّق دارد و بزرگ‌ترین جاندار در میان دلفین‌سانان است. نهنگ‌های قاتل در اقیانوس‌های سراسر جهان، از دریاهای قطبی گرفته تا دریاهای گرمسیری، یافت می‌شوند. آن‌ها طعمه‌های گوناگونی را به‌عنوان غذا اختیار می‌کنند، با این حال بعضی گروه‌ها تنها به دنبال یک طعمه می‌روند. بعضی تنها از ماهی‌ها تغذیه می‌کنند و برخی دیگر به گله‌های پستانداران دریایی، مانند فک، شیر دریایی، گراز دریایی و حتی نهنگ‌ها نیز حمله می‌کنند. نهنگ‌های قاتل در بالای هرم غذایی هستند، دشمنان طبیعی ندارند و گاه کوسه‌های بزرگ را نیز طعمه خود می‌کنند. نهنگ‌های قاتل بسیار اجتماعی‌اند؛ بعضی دسته‌های آن‌ها دارای خانواده‌های مادر نهاد هستند که پایدارترین خانواده‌های این چنینی در میان همه جانوران را تشکیل می‌دهند.روش‌های شکار پیچیده و صداهای تولیدیشان، که اغلب منحصر به یک دسته‌اند و نسل به نسل منتقل می‌شوند، به عنوان گونه‌ای از فرهنگ شناخته می‌شوند.</td>\n",
              "      <td>دشمنان نهنگ قاتل از چه چیزی تغذیه میکنند؟</td>\n",
              "      <td>{'text': [], 'answer_start': []}</td>\n",
              "    </tr>\n",
              "    <tr>\n",
              "      <th>3</th>\n",
              "      <td>3537</td>\n",
              "      <td>مه‌بانگ</td>\n",
              "      <td>نظریه مِه‌بانگ یا بیگ بنگ تولد زمان و مدل کیهان‌شناسی پذیرفته‌شده جهان، از کهن‌ترین دوران شناخته‌شده و تکامل آن در اندازه و مقیاس بزرگ است. این نظریه بیان می‌کند که گیتی از یک وضعیت بسیار چگال (متراکم) نخستین آغاز شده و در گذر زمان انبساط یافته‌است. این نظریه طیف گسترده‌ای از پدیده‌های مشاهده‌شده را به خوبی توضیح می‌دهد. از جمله این پدیده‌ها می‌توان به فراوانی عناصر سبک اولیه، تابش زمینه کیهانی، ساختار بزرگ مقیاس و قانون هابل اشاره نمود. اگر در زمان به عقب برگردیم، به نقطه‌ای در گذشته می‌رسیم که در آن قوانین فیزیکی شناخته‌شده کارایی خود را از دست می‌دهند و نقطه تکینگی نام دارد. این نقطه، نقطه پیدایش گیتی است و بر اساس اندازه‌گیری‌های جدید، این لحظه تقریباً ۱۳٫۸ میلیارد سال پیش رخ داده‌است و از این رو سن گیتی ۱۳٫۸ میلیارد سال تخمین زده می‌شود. پس از انبساط اولیه گیتی به اندازه کافی سرد شد که امکان پیدایش ذرات زیراتمی و بعدها اتمهای ساده، پدید آید. به هم پیوستن ابرهای غول‌پیکر از عناصر اولیه بر اثر نیروی گرانش، باعث پیدایش ستارگان و کهکشانها شد.</td>\n",
              "      <td>ستارگان و کهکشان ها چگونه تشکیل شده اند؟</td>\n",
              "      <td>{'text': ['به هم پیوستن ابرهای غول‌پیکر از عناصر اولیه'], 'answer_start': [859]}</td>\n",
              "    </tr>\n",
              "    <tr>\n",
              "      <th>4</th>\n",
              "      <td>2994</td>\n",
              "      <td>شکلات</td>\n",
              "      <td>کاکائو بومی آمریکای جنوبی، و آمریکای مرکزی است و دست کم به درازنای پنج هزار سال در این منطقه‌ها کشت می‌شده‌است. به‌جامانده‌های شیمیایی که در سفال‌های باستانی یافته شده‌است، نشان می‌دهد که مردم بومی منطقه‌ای که امروز در نزدیکی اکوادور زندگی می‌کنند، کاکائو را به عنوان خوراک، دارو و نوشیدنی به کار می‌گرفتند.یافته‌های باستان‌شناسی نشان‌دهندهٔ کشت و به‌کارگیری خوراکی از این مایه در هندوراس، نزدیک به ۱۱۰۰ سال پیش از میلاد مسیح است. شکلات در آمریکای مرکزی، نوعی کالای لوکس انگاشته می‌شد و دانه‌های کاکائو هم به عنوان پول به‌کار می‌گرفتند. در گذشته شکلات بیشتر در نوشیدنی‌های شکلاتی کاربرد داشته‌است.کریستف کلمب و پسرش فردیناند کلمب نخستین اروپایی‌هایی بودند که در چهارمین نورد خود در ۱۵ اوت ۱۵۰۲ (میلادی) با کاکائو آشنا شدند. آن‌ها قایقی را پیدا کردند که دانه کاکائو بخشی از بار آن بود.شاید کنکیستادور ارنان کورتس نخستین اروپایی بود که با شکلات آشنا شد. او در یادمان‌های خود می‌نویسد که خوردن چهل جام شکلات، بخشی از شام موکتزومای دوم بود.نوشته‌های خوزه د آکوستا مبلغ مذهبی انجمن عیسی در پرو و مکزیک در سده ۱۶ (میلادی) نقش به سزایی در گسترش به کار گرفتن اروپاییان از شکلات داشتند.</td>\n",
              "      <td>نزدیک 1100 سال پیش از میلاد از کاکائو در کدام منطقه استفاده میشده؟</td>\n",
              "      <td>{'text': ['هندوراس'], 'answer_start': [381]}</td>\n",
              "    </tr>\n",
              "    <tr>\n",
              "      <th>5</th>\n",
              "      <td>7771</td>\n",
              "      <td>دگمه</td>\n",
              "      <td>در طول تمدن باستانی دره ایندوس و در سایت‌های عصر برنز در چین مشخص گردیده است که از مهره‌ها برای بستن اجسام پوشاننده بدن مانند پوست و غیره استفاده می‌شده است. مهره‌ها به‌جای بستن لباس، بیشتر به‌منظور تزئین مورد استفاده قرار می‌گرفتند، اما به‌تدریج این رویه تغییر کرده و استفاده از مهره‌ها برای بستن لباس متداول شده است. دکمه یک کلمه فرانسوی و به‌معنی یک شی گرد است. دگمه گویچهٔ کلاه و گریبان و پیراهن و امثال آن است که در مادگی داخل می‌شود و قطعه‌ای از پوشاک را به قطعهٔ دیگر می‌پیوندد. در قدیم تگمه‌هایی از طلا یا برنج برای پیوند پرده‌های خیمهٔ جماعت به‌کار می‌رفت. دگمه‌های سرآستین از متنوع‌ترین نوع دگمه‌های پوشاک هستند. از آن‌جا که بیشتر افراد با دست راست کار می‌کنند، برای آسانیِ کار، دگمه‌های لباس را سمت راست می‌دوزند؛ البته این موضوع در مورد لباس‌های مردانه کاملاً صادق است، ولی در مورد پوشاک زنانه نیست. باآن‌که بیشترِ بانوان نیز مانند آقایان راست‌دست هستند، تکمهٔ لباس‌های زنانه سمت چپ دوخته می‌شود. علت آن این است که زنان اشرافیِ قدیم، خود لباس خود را شخصاً به تن نمی‌کردند، بلکه خدمتکاری داشتند که این کار را برایشان انجام می‌داد. چون خدمتکار برای بستن یا گشودن دگمهٔ لباسِ بانوی خود، می‌بایستی مقابل او قرار می‌گرفت، دوزندگانِ لباس زنانه معمولاً دگمهٔ لباس را در سمتی قرار می‌دادند که خدمتکار بتواند به‌راحتی با دست راست خود آن‌ها را باز کند یا ببندد. ازاین‌رو، دگمهٔ لباس زنان را سمت چپ می‌دوختند.</td>\n",
              "      <td>بیشترین استفاده از دکمه کجای لباسه؟</td>\n",
              "      <td>{'text': ['دگمه‌های سرآستین از متنوع‌ترین نوع دگمه‌های پوشاک هستند.'], 'answer_start': [566]}</td>\n",
              "    </tr>\n",
              "    <tr>\n",
              "      <th>6</th>\n",
              "      <td>3631</td>\n",
              "      <td>آبگوشت</td>\n",
              "      <td>آب‌گوشت، شوربا , دیزی یا پیتی (دیزی فارسی) یکی از خوراکی‌های سنتی ایران است. در پختن آب‌گوشت از گوشت و دنبه گوسفند، گوجه فرنگی (و یا رب گوجه فرنگی) و نخود استفاده می‌شود. خوراکی رقیق که از پختن گوشت و پیاز و سیب‌زمینی و نخود درست می‌شود که در دو مرحله می‌خورند. اول آب آن را با تکه‌های نان مخلوط نموده و می‌خورند (تیلیت). بقیه مواد را می‌توان با گوشت‌کوب کاملاً کوبیده یا نکوبیده با نان، پیاز و چاشنی مانند ترشی و سبزی‌خوردن میل می‌کنند (گوشت کوبیده). در صورت پخته‌شدن در ظروف سنگی آن را دیزی سنگی می‌نامند. برخی افراد از طریق تریدکردن، نان‌های خشک را به مصرف مفید می‌رسانند.آبگوشت دارای انواعی مانند آبگوشت بزباش، آبگوشت کشک، آبگوشت گندم و آبگوشت بلغور... است که در شهرها و مناطق مختلف با محتویات متفاوت چون ادویه‌ها و غیره پخته می‌شوند. همچنین دیزی یکی از غذاهای محلی همدان به‌شمار می‌آید. آبگوشت لوبیا هم از غذاهای محلی سنتی کاشان می‌باشد که با عنوان گوشت لوبیا و آبگوشت لوبیا سفید هم شناخته می‌شود. آبگوشت مار نوعی آبگوشت بوده که از گوشت مار تهیه می‌شده و برای مصونیت از مارگزیدگی، دور کردن سحر و جادو، و افزایش قوای جنسی مصرف می‌شده‌است.</td>\n",
              "      <td>مواد تشکیل دهنده دیزی چیست؟</td>\n",
              "      <td>{'text': ['گوشت و دنبه گوسفند، گوجه فرنگی (و یا رب گوجه فرنگی) و نخود'], 'answer_start': [96]}</td>\n",
              "    </tr>\n",
              "    <tr>\n",
              "      <th>7</th>\n",
              "      <td>5891</td>\n",
              "      <td>چاقی</td>\n",
              "      <td>چاقی وضیعت پزشکی است که بافت چربی بیش از حد طبیعی در بدن فرد انباشته شده باشد. انباشت بیش از حد بافت چربی می‌تواند باعث پسرفت شاخص‌های سلامتی، از جمله کاهش میانگین طول عمر و/یا کاهش کیفیت زندگی گردد. شایع‌ترین روش برای تخمین چاقی استفاده از شاخص توده بدن (BMI) است. شاخصی که با تقسیم کردن وزن شخص بر حسب کیلوگرم بر توان دوم قد وی بر حسب متر به دست می‌آید. طبق تعریف هنگامی که شاخص توده بدن از ۳۰=(kg/m^۲) بیشتر شود، آن فرد چاق محسوب می‌شود. و در کودکان از صدک استفاده میشود دلایل متنوعی برای علت چاقی ارائه شده‌است. اما مهم‌ترین علت مؤثر در چاقی و اضافه وزن، عبارت است از تمایل بدن ما برای ذخیره انرژی به صورت چربی این تمایل به صورت تکاملی به انسان امروزی به ارث رسیده‌است. هزاران سال پیش، اجداد انسان امروزی به دلیل نحوه تغذیه که عبارت بود از دوره‌های پرخوری، و انتظار طولانی مدت برای پیدا کردن دوباره غذا، توانایی ذخیره انرژی به صورت بافت اضافه چربی را به دست آوردند. و در کودکان از صدک استفاده میشود.در بیشتر کسانی که اضافه وزن دارند، چاقی موضعی و شکمی دارند.</td>\n",
              "      <td>چه زمانی شخص چاق حساب می شود؟</td>\n",
              "      <td>{'text': ['هنگامی که شاخص توده بدن از ۳۰=(kg/m^۲) بیشتر شود'], 'answer_start': [366]}</td>\n",
              "    </tr>\n",
              "    <tr>\n",
              "      <th>8</th>\n",
              "      <td>4224</td>\n",
              "      <td>غلامرضا تختی</td>\n",
              "      <td>غلام‌رضا تختی (۵ شهریور ۱۳۰۹ – ۱۷ دی ۱۳۴۶) که با عنوان جهان پهلوان نیز شناخته می‌شود، ورزشکار کشتی‌گیر اهل ایران بود. وی در بازی‌های ۱۹۵۶ توانست پس از امامعلی حبیبی، دومین مدال طلای ورزشکاران ایرانی در بازی‌های المپیک را به دست آورد. او با کسب این نشان، به همراه دو مدال نقره که در بازی‌های ۱۹۵۲ و ۱۹۶۰ از آن خود کرد، پر افتخارترین کشتی‌گیر ایران در این بازی‌ها است. تختی دو قهرمانی و دو نائب قهرمانی در رقابت‌های قهرمانی جهان و همچنین نشان طلای بازی‌های آسیایی را در دوران فعالیت خود به دست آورد و بدین ترتیب در جایگاه دوازدهم فهرست برترین‌های قرن بیستم فیلا قرار گرفت. تختی از چهره‌های مشهور فرهنگ عامه ایرانیان است و در فرهنگ ورزشی ایران، بسیاری وی را نماد «پهلوانی» و «جوانمردی» می‌دانند. پس از رخداد زمین‌لرزهٔ بوئین زهرا که ده‌ها هزار کشته و مجروح در پی داشت، فعالیت‌های او و تنی چند از پهلوانان برای امداد رسانی به زلزله‌زدگان؛ موجی از شور و وحدت ملی در ایران برانگیخت و کمک‌های فراوانی برای آسیب‌دیدگان ارسال شد</td>\n",
              "      <td>تختی در رقابت های کشتی جهانی چه عنوان های دارد؟</td>\n",
              "      <td>{'text': ['دو قهرمانی و دو نائب قهرمانی'], 'answer_start': [372]}</td>\n",
              "    </tr>\n",
              "    <tr>\n",
              "      <th>9</th>\n",
              "      <td>4853</td>\n",
              "      <td>جمشید هاشم‌پور</td>\n",
              "      <td>جمشید هاشم‌پور در سال ۱۳۶۱ به دعوت مسعود کیمیایی برای بازی در فیلم خط قرمز دوباره به سینما بازگشت. بازی او در نقش «زینال بندری» در فیلم تاراج ساختهٔ ایرج قادری بود که جمشید هاشم‌پور (آریا) را با سرِ تراشیده میان مردم مطرح کرد؛ تا جایی که تیپ قهرمان سرتراشیده تا سال‌ها مخاطبان بسیاری را روانهٔ سینماها می‌کرد. او ستاره سینمای ایران در دهه هفتاد بود. جمشید هاشم‌پور از معدود هنرپیشگان سینمای ایران است که فعالیت تئاتری نداشت و بنا به گفته خودش در یکی از مصاحبه‌هایش، سینما را از سینما شروع کرده‌است و تنها فعالیت تئاتری وی صحنه‌هایی از فیلم تماس شیطانی بود که صحنه‌های تئاتر را با راهنمایی مجید مظفری اجرا کرد. او در دههٔ ۱۳۶۰ و اوایل دهه ۱۳۷۰ در کنار بازی در فیلم‌های اکشن و حادثه‌ای، بازی در نقش‌های دیگر را نیز امتحان کرده‌است. بازی در فیلم‌هایی نظیر: روز باشکوه (کیانوش عیاری، ۱۳۶۷) - مادر (علی حاتمی، ۱۳۶۸) - پردهٔ آخر (واروژ کریم‌مسیحی، ۱۳۶۹) - عشق و مرگ (محمدرضا اعلامی، ۱۳۶۹) و دلشدگان (علی حاتمی، ۱۳۷۰). هاشم‌پور پس از دریافت دیپلم افتخار از هفدهمین دوره جشنواره فیلم فجر (۱۳۷۷) برای بازی در فیلم هیوا (رسول ملاقلی‌پور) گزیده‌کار شد.</td>\n",
              "      <td>در دهه هفتاد چه کسی سوپراستار سینمای ایران بود؟</td>\n",
              "      <td>{'text': ['جمشید هاشم‌پور'], 'answer_start': [0]}</td>\n",
              "    </tr>\n",
              "  </tbody>\n",
              "</table>"
            ]
          },
          "metadata": {}
        }
      ]
    },
    {
      "cell_type": "code",
      "source": [
        "show_random_elements(datasets[\"validation\"])"
      ],
      "metadata": {
        "colab": {
          "base_uri": "https://localhost:8080/",
          "height": 1000
        },
        "id": "Wuc8o2rbSY5O",
        "outputId": "53dcd748-588b-4191-e78a-2cf0a8d3388b"
      },
      "execution_count": 25,
      "outputs": [
        {
          "output_type": "display_data",
          "data": {
            "text/plain": [
              "<IPython.core.display.HTML object>"
            ],
            "text/html": [
              "<table border=\"1\" class=\"dataframe\">\n",
              "  <thead>\n",
              "    <tr style=\"text-align: right;\">\n",
              "      <th></th>\n",
              "      <th>id</th>\n",
              "      <th>title</th>\n",
              "      <th>context</th>\n",
              "      <th>question</th>\n",
              "      <th>answers</th>\n",
              "    </tr>\n",
              "  </thead>\n",
              "  <tbody>\n",
              "    <tr>\n",
              "      <th>0</th>\n",
              "      <td>9532</td>\n",
              "      <td>والیبال</td>\n",
              "      <td>والیبال یک ورزش گروهی و ششمین ورزش پر طرفدار و گسترده‌ترین ورزش در بعضی کشورهای جهان است که در آن بازیکنان در دو تیم شش نفره، در دو سوی توری قرار می‌گیرند و تلاش می‌کنند تا طبق قوانین بازی، توپ را از روی تور در زمین تیم مقابل فرود آورند. طول زمین والیبال ۱۸ متر و عرض آن ۹ است. هرتیم حداقل باید ۳ ست (یا دست) از ۵ پنج ست بازی را ببرد، تا بتواند پیروز مسابقه شود. والیبال در سال ۱۸۹۵ در ایالات متحده آمریکا و توسط ویلیام مورگان ابداع شد. سپس به‌سرعت فراگیر شد به‌طوری‌که در بازی‌های المپیک تابستانی ۱۹۶۰ برای نخستین‌بار در برنامه بازی‌های المپیک قرار گرفت و امروزه تقریباً در تمام دنیا بازی می‌شود. این رشته تقریباً برای تمام گروه‌های سنی مناسب است و وسایل بازی شامل توپ و تور است. امروزه، بیش از ۸۰۰ میلیون بازیکن والیبال در سراسر جهان وجود دارند، که ۴۶ میلیون نفر از آن‌ها از ایالات متحده آمریکا هستند. بر اساس اطلاعات کمیته المپیک، والیبال بالاتر از فوتبال، تنیس و دیگر ورزش‌ها محبوب‌ترین ورزش بازی‌های المپیک است.</td>\n",
              "      <td>تیم ها تو والیبال چند ست ببرن برنده بازی می شن؟</td>\n",
              "      <td>{'text': ['۳ ست (یا دست) از ۵ پنج ست', '۳ ست (یا دست)'], 'answer_start': [295, 295]}</td>\n",
              "    </tr>\n",
              "    <tr>\n",
              "      <th>1</th>\n",
              "      <td>9559</td>\n",
              "      <td>فرودگاه بین‌المللی مهرآباد</td>\n",
              "      <td>فرودگاه بین‌المللی مهرآباد نام یکی از فرودگاه‌های شهر تهران، پایتخت ایران است که در سال ۱۳۱۷ ساخته شده‌است. این فرودگاه در بخش غربی تهران واقع شده و نام خود را از روستای مهرآباد جنوبی ده بالا که پیشتر در آن منطقه قرار داشت گرفته‌است. این فرودگاه مجهز به سامانه‌های آی ال اس و وی او آر است. فرودگاه مهرآباد پس از فرودگاه مسجد سلیمان، فرودگاه بندر لنگه، قلعه مرغی و فرودگاه خرم‌آباد، پنجمین فرودگاه ایران می‌باشد. در سال ۲۰۱۵ میلادی ۱۳۲٬۲۴۵ نشست و برخاست هواپیما در این فرودگاه انجام شد و ۱۱۱٬۱۰۷٬۸۲۲ کیلوگرم بار و ۱۶٬۳۲۷٬۳۵۹ نفر مسافر از طریق آن جابجا شدند. نام اصلی روستای مهرآباد «حسین‌آباد» و در تملک حاجی میرزا آقاسی صدراعظم محمد شاه قاجار بود. حاجی میرزا آقاسی، حسین‌آباد را به ناصرالدین شاه هدیه کرد و بعد از مدتی جزو مهریه عصمت‌الدوله (دختر ناصرالدین‌شاه) و همسر دوستمحمدخان معیرالممالک، درآمد و نام مهرآباد را بر آن گذاشتند. اما بعدها به مناسبت خرج‌های بی‌رویه دوستمحمدخان، مهرآباد به گرو رفت و از تملک خاندان معیرالممالک خارج شد و دادخواهی دوستعلی معیری پسر دوست‌محمدخان نیز نزد رضاشاه بی‌فایده بود.</td>\n",
              "      <td>بهترین شرکت هواپیمایی دنیا کدوم شرکته؟</td>\n",
              "      <td>{'text': [], 'answer_start': []}</td>\n",
              "    </tr>\n",
              "    <tr>\n",
              "      <th>2</th>\n",
              "      <td>10316</td>\n",
              "      <td>یووال نوح هراری</td>\n",
              "      <td>یووال نوح هراری (به عبری: יובל נח הררי) (زاده ۲۴ فوریهٔ ۱۹۷۶) روشن‌فکر، تاریخ‌دان و نویسنده اسرائیلی و استاد تاریخ دانشگاه عبری اورشلیم است که دو کتاب پرفروش بین‌المللی انسان خردمند: تاریخ مختصر بشر و انسان خداگونه: تاریخ مختصر آینده را نوشته‌است. کسانی چون بیل گیتس و باراک اوباما نوشته‌های یووال هراری را ستوده‌اند. او در سال ۲۰۱۸ کتاب بیست‌ویک درس برای سده بیست‌ویکم را منتشر کرد.هراری در ۲۴ فوریه ۱۹۷۶ در شهر کریات آتا در شمال اسرائیل در یک خانواده سکولار یهودی با ریشه‌هایی از اروپای شرقی و لبنانی زاده شد. او دارای مدرک دکترای تاریخ از دانشگاه آکسفورد می‌باشد و هم‌اکنون در دانشگاه عبری اورشلیم تدریس می‌کند. یووال نوح هراری آشکارا همجنسگراست. او با همسرش، ایتزیک یهو که مدیر برنامه‌هایش نیز هست و او را «اینترنت من از همه‌چیز» می‌خواند، در سال ۲۰۰۲ آشنا شد. آن‌ها در یک مراسم سنتی در شهر تورنتو در کانادا ازدواج کردند و هم‌اکنون در حومه تل‌آویو زندگی می‌کنند. او از ژانویه ۲۰۱۹، تلفن هوشمند ندارد. نوح هراری یک گیاهخوار نیز هست.</td>\n",
              "      <td>هراری در کجا به دنیا امده است؟</td>\n",
              "      <td>{'text': ['در شهر کریات آتا در شمال اسرائیل', 'شهر کریات'], 'answer_start': [406, 409]}</td>\n",
              "    </tr>\n",
              "    <tr>\n",
              "      <th>3</th>\n",
              "      <td>10344</td>\n",
              "      <td>کریم بنزما</td>\n",
              "      <td>کریم مصطفی بنزما (به فرانسوی: Karim Mostafa Benzema) (زادهٔ ۱۹ دسامبر ۱۹۸۷ در لیون) بازیکن فوتبال اهل فرانسه است که برای باشگاه فوتبال رئال مادرید در پست مهاجم بازی می‌کند. بنزما در حال بازی برای فرانسه در یورو ۲۰۱۲ بنزما فوتبال حرفه‌ای خود را از باشگاه المپیک لیون آغاز کرد و در سال ۲۰۰۴ میلادی وارد ترکیب تیم بزرگسالان این باشگاه شد و پس از ۵ سال بازی برای این تیم، در فصل ۲۰۰۹–۱۰ به باشگاه رئال مادرید پیوست. مبلغ انتقال قرارداد او از لیون به رئال ۳۵ میلیون یورو اعلام شد که با توجه به نحوه بازی او و عملکرد مثبتش این قرارداد به تا سقف ۴۱ میلیون یورو نیز افزایش می‌یافت. قرارداد او در سالی وارد باشگاه رئال مادرید شد که ستارگانی همچون کریستیانو رونالدو و کاکا نیز در آن سال با این باشگاه مادریدی قرارداد بستند. او بهترین گلزن فرانسوی تاریخ لیگ قهرمانان اروپا با ۵۵ گل است و همچنین با ثبت پاس گل در بازی برابر اوساسونا با ۱۳۳ پاس گل و پشت سر گذاشتن کریستیانو رونالدو بهترین پاسور تاریخ رئال مادرید شد.</td>\n",
              "      <td>بنزما فوتبال حرفه ای را از کدام تیم شروع کرد؟</td>\n",
              "      <td>{'text': ['از باشگاه المپیک لیون', 'المپیک لیون'], 'answer_start': [244, 254]}</td>\n",
              "    </tr>\n",
              "    <tr>\n",
              "      <th>4</th>\n",
              "      <td>10204</td>\n",
              "      <td>فارابی</td>\n",
              "      <td>ابونصر محمد بن محمد طرخانی ملقب به فارابی، در حدود سال ۲۵۷هجری قمری/ ۸۷۰میلادی در دهکدهٔ «وسیج» از ناحیهٔ پاراب (فاراب) در فرارود (شهر اُترار کنونی در جنوب قزاقستان) یا پاریاب (فاریاب) خراسان در افغانستان کنونی به دنیا آمد. دهخدا به نقل از بدیع الزمان فروزانفر می‌نویسد: «اسم پدر او طرخان و نام جدش اوزلوغ است (اما در دانشنامه ایرانیکا رد شده است). نام ازلغ و طرخان هر دو نامهای سغدی ایرانی هستند که نام طرخان از سغدی به ترکی وارد شده است. درشرح زندگی فارابی مطلبی که بر جریان واقعی زندگی دوران طفولیت و جوانی وی باشد در کتاب‌ها وجود ندارد. ابن ابی اصیبعه دو خبر متناقض دربارهٔ او نقل می‌کند: اول اینکه فارابی در آغاز کار نگهبان باغی در دمشق بود و دوم اینکه، در عنفوان جوانی به قضاوت مشغول بود و چون به معارف دیگر آشنا شد، قضاوت را ترک کرد و با تمام میل به طرف معارف دیگر روی آورد.» در جوانی برای تحصیل به بغداد رفت و نزد «متی بن یونس» به فراگرفتن منطق و فلسفه پرداخت. سپس به حرّان سفر کرد و به شاگردی «یوحنا بن حیلان» درآمد. از آغاز کار، هوش سرشار و علم آموزی وی سبب شد که همه موضوعاتی را که تدریس می‌شد، به خوبی فرا گیرد. به زودی نام او به عنوان فیلسوف و دانشمند شهرت یافت و چون به بغداد بازگشت، گروهی از شاگردان، گرد او فراهم آمدند که «یحیی بن عدی» فیلسوف مسیحی یکی از آنان بود.</td>\n",
              "      <td>فارابی در شهر بغداد چند بار درس نخواند؟</td>\n",
              "      <td>{'text': [], 'answer_start': []}</td>\n",
              "    </tr>\n",
              "    <tr>\n",
              "      <th>5</th>\n",
              "      <td>10271</td>\n",
              "      <td>کویر</td>\n",
              "      <td>کویر یا نمک زار منطقه‌ای است که به دلیل موقعیت جغرافیایی (معمولاً ختم رودخانه‌ها در آن) و حرارت شدید آفتاب به نمک‌زار بدل شده باشد. برخی کویرها قبلاً دریاچه یا دریاهایی بوده‌اند که در اثر تبخیر آب از آن‌ها به نمک‌زار بدل شده‌اند. کویر مرکزی ایران که دشت کویر نامیده می‌شود، درون خود تعداد زیادی کویر کوچک‌تر، مانند کویر درانجیر، کویر ساغند، کویر بند ریگ را جا داده‌است. با وجود این‌که در بین عامه مردم رایج است که اصطلاح «کویر» و «بیابان» را به‌جای یکدیگر به‌کار می‌برند ولی بین این دو اصطلاح تفاوت اساسی وجود دارد. بیابان به بخشی از مناطق خشک گفته می‌شود که بارندگی سالانه آن کمتر از ۵۰ میلی‌متر است و ممکن است چند سال در آن باران نبارد و با کم‌آبی و تبخیر شدید مواجه است و پوشش گیاهی آن بسیار ضعیف است. اما کویر به زمین‌های رسی پف‌کرده، با شوری و نمک بسیار شدید گفته می‌شود که گیاهان نمی‌توانند در آن رشد نمایند. در بعضی از کویرها که شوری خاک کمتر است، ممکن است گیاهانی مانند گز که دربرابر املاح نمکی مقاوم است، در آن رشد نماید.</td>\n",
              "      <td>دشت‌های ایران را نام ببرید.</td>\n",
              "      <td>{'text': [], 'answer_start': []}</td>\n",
              "    </tr>\n",
              "    <tr>\n",
              "      <th>6</th>\n",
              "      <td>9800</td>\n",
              "      <td>ایستگاه فضایی</td>\n",
              "      <td>ایستگاه فضایی نوعی سازه است که برای زندگی و کار بشر در فضا طراحی و ساخته شده‌است. تاکنون تنها ایستگاه‌های مدار پایین به مرحلهٔ بهره‌برداری رسیده‌اند که آن‌ها را «ایستگاه مداری» نیز می‌خوانند. تفاوت ایستگاه فضایی با فضاپیماهای دیگر این است که در ایستگاه فضایی امکانات اساسی پیش‌رانی یا فرود بر زمین وجود ندارد؛ در عوض از وسایل نقلیهٔ دیگر برای ترابری (چه از ایستگاه چه به ایستگاه) سود جسته می‌شود. ایستگاه‌های فضایی برای سکونت میان‌مدت طراحی شده‌اند که درازایش می‌تواند چند هفته، چند ماه و حتی چند سال باشد. تنها ایستگاه فضایی‌ای که هم‌اینک مورد استفاده‌است، «ایستگاه فضایی بین‌المللی» است. ایستگاه‌های فضایی پیشین الماز، سری سالیوت، اسکای‌لب و میر بودند. تاریخچهٔ ساخت و توسعهٔ ایستگاه‌های فضایی به زمان جنگ سرد و اوج رقابت‌های فضایی بازمی‌گردد. زمانی‌که راکت ساترن ۵ توسط آمریکا و به دست دکتر ورنر فون براون و گروهش توسعه داده می‌شد، این مهندس آلمانی همواره ایدهٔ ساخت اقامت‌گاهی فضایی را در سر می‌پروراند.</td>\n",
              "      <td>به ایستگاه فضایی مدار پایین چی می گن؟</td>\n",
              "      <td>{'text': ['ایستگاه مداری', 'ایستگاه مداری'], 'answer_start': [162, 162]}</td>\n",
              "    </tr>\n",
              "    <tr>\n",
              "      <th>7</th>\n",
              "      <td>9746</td>\n",
              "      <td>یونسکو</td>\n",
              "      <td>سازمان آموزشی، علمی و فرهنگی سازمان ملل متحد (یونسکو) یک سازمان تخصصی سازمان ملل متحد است که با هدف کمک به «ایجاد صلح، ریشه کن کردن فقر، توسعه پایدار و گفتگوی بین فرهنگی از طریق آموزش، علوم، فرهنگ، ارتباطات و اطلاعات» به وجود آمده‌است و جانشین کمیته بین‌المللی همکاری اندیشمندانه جامعه ملل است. یونسکو ۱۹۳ کشور عضو رسمی و ۱۱ عضو وابسته دارد. اکثر دفاتر آن در پاریس، فرانسه، مستقر است افزون بر این مراکز، دفاتر ملی و منطقه ای نیز وجود دارد. یونسکو به دنبال ایجاد فرهنگ صلح و دانش فراگیر از طریق اطلاعات و ارتباطات است. برای این منظور، اهداف خود را از طریق پنج حوزه اصلی دنبال می‌کند: آموزش، علوم طبیعی، علوم اجتماعی / انسانی، فرهنگ و ارتباطات / اطلاعات. این برنامه از پروژه‌های مرتبط با سواد، آموزش فنی، آموزش، پیشرفت علم، ترویج رسانه‌های مستقل و آزادی مطبوعات، حفظ تاریخ منطقه ای و فرهنگی و ترویج تنوع فرهنگی حمایت می‌کند . یونسکو در ترجمه و ترویج ادبیات جهان، ایجاد توافق‌نامه‌های همکاری بین‌المللی برای تأمین امنیت \" میراث جهانی \" از اهمیت فرهنگی و طبیعی، حفظ حقوق بشر و پل زدن شکاف دیجیتال در سراسر جهان کمک می‌کند. این برنامه همچنین جنبش آموزش برای همه و علم‌آموزی تمام عمر را راه اندازی و رهبری می‌کند.</td>\n",
              "      <td>مدیر یونسکو کیه؟</td>\n",
              "      <td>{'text': [], 'answer_start': []}</td>\n",
              "    </tr>\n",
              "    <tr>\n",
              "      <th>8</th>\n",
              "      <td>9672</td>\n",
              "      <td>کاخ باکینگهام</td>\n",
              "      <td>کاخ باکینگهام در لندن اقامتگاه اصلی خانواده سلطنتی بریتانیا است. این کاخ همچنین یکی از بزرگ‌ترین کاخ‌های سلطنتی فعال دنیاست. با قرار گرفتن در شهر وست‌مینستر، این کاخ اغلب مرکز رویدادهای عمومی ویژه و مهمانی‌های سلطنتی است. این مکان در هنگام جشن‌های ملی، مورد توجه بریتانیایی‌ها است. نام اصلی این مکان خانه باکینگهام است. ساختمانی که هسته کاخ امروزی را شکل می‌دهد، یک خانه شهری متعلق به دوک باکینگهام ساخته شده در سال ۱۷۰۳ در محلی بود که به مدت حداقل ۱۵۰ سال یک ملک شخصی به‌شمار می‌آمد. بعدها و در سال ۱۷۶۱، پادشاه جرج سوم آن را به تملک خود درآورد و به خانه شخصی ملکه شارلوت تبدیل کرد و نام آن به «خانه ملکه» مبدل شد. این عمارت در طول قرن ۱۹ ام، به وسیله دو معمار به نام‌های جان نش و ادوارد بلور توسعه یافت. آن‌ها پیرامون حیاط مرکزی سه قسمت درست کردند. کاخ باکینگهام در نهایت با به تخت نشستن ملکه ویکتوریا، در سال ۱۸۳۷، به کاخ سلطنتی رسمی بریتانیا تبدیل شد. آخرین ساختمان‌های اصلی، از جمله بخش نمای شرقی، که شامل یک ایوان مشهور بوده که خانواده سلطنتی به‌طور سنتی برای سلام دادن به جمعیت در آنجا جمع می‌شوند، در اواخر قرن ۱۹ام و اوایل قرن ۲۰ام اضافه شدند.</td>\n",
              "      <td>کدوم پادشاه کاخ باکینگهام رو گرفت؟</td>\n",
              "      <td>{'text': ['پادشاه جرج سوم', 'جرج سوم'], 'answer_start': [506, 513]}</td>\n",
              "    </tr>\n",
              "    <tr>\n",
              "      <th>9</th>\n",
              "      <td>9591</td>\n",
              "      <td>هواپیمایی ماهان</td>\n",
              "      <td>هواپیمایی ماهان شرکت هواپیمایی خصوصی ایرانی است و آشیانه اصلی این شرکت در شهر کرمان قرار دارد. این شرکت در سال ۱۳۷۱ در کرمان تأسیس گردید و نام ماهان ایر نیز برگرفته از ماهان شهری در ۳۵ کیلومتری کرمان است. سهام‌دار عمدهٔ این شرکت مؤسسه خیریه مولی‌الموحدین است. شرکت هواپیمایی ماهان هم‌اکنون ناوگانی متشکل از ۳۷ فروند هواپیمای مسافربری و باری را در اختیار دارد و روزانه به ۲۰ مقصد، در اروپا، آسیا و خاورمیانه، پروازهای مستقیم دارد. این شرکت هواپیمایی از سال ۲۰۱۱ به دلیل خدمات‌رسانی به سپاه پاسداران، تحت تحریم آمریکا، و از ۲۰۱۹ با ممنوعیت پرواز آلمان و فرانسه قرار دارد. برخی منابع هواپیمایی ماهان را عامل انتقال ویروس کرونا به ایران می‌دانند. شرکت هواپیمایی ماهان، به مرکزیت شهر تهران، از لحاظ ناوگان هوایی و مسافر حمل شده به عنوان بزرگترین شرکت هواپیمایی ایران به‌شمار می‌آید. این شرکت در سال ۱۳۷۱ با برخورداری از دو فروند هواپیمای مسافربری، تأسیس گردید. در سال ۱۳۷۸ اولین هواپیمای ایرباس ای۳۰۰ به ناوگان هواپیمایی ماهان ملحق گردید و در سال ۱۳۷۹ به عضویت در انجمن بین‌المللی حمل‌ونقل هوایی (یاتا) پیوست.</td>\n",
              "      <td>سپاه پاسداران کیه؟</td>\n",
              "      <td>{'text': [], 'answer_start': []}</td>\n",
              "    </tr>\n",
              "  </tbody>\n",
              "</table>"
            ]
          },
          "metadata": {}
        }
      ]
    },
    {
      "cell_type": "code",
      "source": [
        "max_length = 384\n",
        "doc_stride = 128"
      ],
      "metadata": {
        "id": "hshNXBgjSky6"
      },
      "execution_count": 26,
      "outputs": []
    },
    {
      "cell_type": "code",
      "source": [
        "pad_on_right = tokenizer.padding_side == \"right\""
      ],
      "metadata": {
        "id": "K6zHtJEtSx2m"
      },
      "execution_count": 27,
      "outputs": []
    },
    {
      "cell_type": "code",
      "source": [
        "def prepare_train_features(examples):\n",
        "    tokenized_examples = tokenizer(\n",
        "        examples[\"question\" if pad_on_right else \"context\"],\n",
        "        examples[\"context\" if pad_on_right else \"question\"],\n",
        "        truncation=\"only_second\" if pad_on_right else \"only_first\",\n",
        "        max_length=max_length,\n",
        "        stride=doc_stride,\n",
        "        return_overflowing_tokens=True,\n",
        "        return_offsets_mapping=True,\n",
        "        padding=\"max_length\",\n",
        "    )\n",
        "\n",
        "    sample_mapping = tokenized_examples.pop(\"overflow_to_sample_mapping\")\n",
        "    offset_mapping = tokenized_examples.pop(\"offset_mapping\")\n",
        "\n",
        "    tokenized_examples[\"start_positions\"] = []\n",
        "    tokenized_examples[\"end_positions\"] = []\n",
        "\n",
        "    for i, offsets in enumerate(offset_mapping):\n",
        "        input_ids = tokenized_examples[\"input_ids\"][i]\n",
        "        cls_index = input_ids.index(tokenizer.cls_token_id)\n",
        "\n",
        "        sequence_ids = tokenized_examples.sequence_ids(i)\n",
        "        sample_index = sample_mapping[i]\n",
        "        answers = examples[\"answers\"][sample_index]\n",
        "        if len(answers[\"answer_start\"]) == 0:\n",
        "            tokenized_examples[\"start_positions\"].append(cls_index)\n",
        "            tokenized_examples[\"end_positions\"].append(cls_index)\n",
        "        else:\n",
        "            start_char = answers[\"answer_start\"][0]\n",
        "            end_char = start_char + len(answers[\"text\"][0])\n",
        "\n",
        "            token_start_index = 0\n",
        "            while sequence_ids[token_start_index] != (1 if pad_on_right else 0):\n",
        "                token_start_index += 1\n",
        "\n",
        "            token_end_index = len(input_ids) - 1\n",
        "            while sequence_ids[token_end_index] != (1 if pad_on_right else 0):\n",
        "                token_end_index -= 1\n",
        "\n",
        "            if not (offsets[token_start_index][0] <= start_char and offsets[token_end_index][1] >= end_char):\n",
        "                tokenized_examples[\"start_positions\"].append(cls_index)\n",
        "                tokenized_examples[\"end_positions\"].append(cls_index)\n",
        "            else:\n",
        "\n",
        "                while token_start_index < len(offsets) and offsets[token_start_index][0] <= start_char:\n",
        "                    token_start_index += 1\n",
        "                tokenized_examples[\"start_positions\"].append(token_start_index - 1)\n",
        "                while offsets[token_end_index][1] >= end_char:\n",
        "                    token_end_index -= 1\n",
        "                tokenized_examples[\"end_positions\"].append(token_end_index + 1)\n",
        "\n",
        "    return tokenized_examples\n",
        "\n"
      ],
      "metadata": {
        "id": "TTf5V1gtTZx4"
      },
      "execution_count": 28,
      "outputs": []
    },
    {
      "cell_type": "code",
      "source": [
        "features = prepare_train_features(datasets['train'][:5])"
      ],
      "metadata": {
        "id": "bCBtWNEhV38q"
      },
      "execution_count": 29,
      "outputs": []
    },
    {
      "cell_type": "code",
      "source": [
        "tokenized_datasets = datasets.map(prepare_train_features, batched=True, remove_columns=datasets[\"train\"].column_names)\n"
      ],
      "metadata": {
        "id": "GQK829tqLV6_"
      },
      "execution_count": 30,
      "outputs": []
    },
    {
      "cell_type": "code",
      "source": [
        "from transformers import AutoModelForQuestionAnswering , TrainingArguments , Trainer\n",
        "\n",
        "model = AutoModelForQuestionAnswering.from_pretrained(model_checkpoint)"
      ],
      "metadata": {
        "colab": {
          "base_uri": "https://localhost:8080/"
        },
        "id": "Rt6ywSs0OU8B",
        "outputId": "4a2477d9-ca33-4586-b7ee-33edaff9465a"
      },
      "execution_count": 31,
      "outputs": [
        {
          "output_type": "stream",
          "name": "stderr",
          "text": [
            "Some weights of BertForQuestionAnswering were not initialized from the model checkpoint at HooshvareLab/bert-fa-zwnj-base and are newly initialized: ['qa_outputs.bias', 'qa_outputs.weight']\n",
            "You should probably TRAIN this model on a down-stream task to be able to use it for predictions and inference.\n"
          ]
        }
      ]
    },
    {
      "cell_type": "code",
      "source": [
        "import torch\n",
        "device = torch.device('cuda') if torch.cuda.is_available() else torch.device('cpu')\n",
        "model.to(device)"
      ],
      "metadata": {
        "colab": {
          "base_uri": "https://localhost:8080/"
        },
        "id": "TMnwHVAuO3NV",
        "outputId": "e72f2038-7921-4815-dc95-936b381a3bb6"
      },
      "execution_count": 32,
      "outputs": [
        {
          "output_type": "execute_result",
          "data": {
            "text/plain": [
              "BertForQuestionAnswering(\n",
              "  (bert): BertModel(\n",
              "    (embeddings): BertEmbeddings(\n",
              "      (word_embeddings): Embedding(42000, 768, padding_idx=0)\n",
              "      (position_embeddings): Embedding(512, 768)\n",
              "      (token_type_embeddings): Embedding(2, 768)\n",
              "      (LayerNorm): LayerNorm((768,), eps=1e-12, elementwise_affine=True)\n",
              "      (dropout): Dropout(p=0.1, inplace=False)\n",
              "    )\n",
              "    (encoder): BertEncoder(\n",
              "      (layer): ModuleList(\n",
              "        (0-11): 12 x BertLayer(\n",
              "          (attention): BertAttention(\n",
              "            (self): BertSelfAttention(\n",
              "              (query): Linear(in_features=768, out_features=768, bias=True)\n",
              "              (key): Linear(in_features=768, out_features=768, bias=True)\n",
              "              (value): Linear(in_features=768, out_features=768, bias=True)\n",
              "              (dropout): Dropout(p=0.1, inplace=False)\n",
              "            )\n",
              "            (output): BertSelfOutput(\n",
              "              (dense): Linear(in_features=768, out_features=768, bias=True)\n",
              "              (LayerNorm): LayerNorm((768,), eps=1e-12, elementwise_affine=True)\n",
              "              (dropout): Dropout(p=0.1, inplace=False)\n",
              "            )\n",
              "          )\n",
              "          (intermediate): BertIntermediate(\n",
              "            (dense): Linear(in_features=768, out_features=3072, bias=True)\n",
              "            (intermediate_act_fn): GELUActivation()\n",
              "          )\n",
              "          (output): BertOutput(\n",
              "            (dense): Linear(in_features=3072, out_features=768, bias=True)\n",
              "            (LayerNorm): LayerNorm((768,), eps=1e-12, elementwise_affine=True)\n",
              "            (dropout): Dropout(p=0.1, inplace=False)\n",
              "          )\n",
              "        )\n",
              "      )\n",
              "    )\n",
              "  )\n",
              "  (qa_outputs): Linear(in_features=768, out_features=2, bias=True)\n",
              ")"
            ]
          },
          "metadata": {},
          "execution_count": 32
        }
      ]
    },
    {
      "cell_type": "code",
      "source": [
        "torch.cuda.is_available()"
      ],
      "metadata": {
        "colab": {
          "base_uri": "https://localhost:8080/"
        },
        "id": "838yt0jGtqG4",
        "outputId": "bd9ea9e4-aafb-4557-b42c-4b7033e81526"
      },
      "execution_count": 33,
      "outputs": [
        {
          "output_type": "execute_result",
          "data": {
            "text/plain": [
              "True"
            ]
          },
          "metadata": {},
          "execution_count": 33
        }
      ]
    },
    {
      "cell_type": "code",
      "source": [
        "%%capture\n",
        "!pip install accelerate -U\n",
        "!pip install transformers -U"
      ],
      "metadata": {
        "id": "c3gulygnQBgY"
      },
      "execution_count": 34,
      "outputs": []
    },
    {
      "cell_type": "code",
      "source": [
        "!pip install torch torchvision -U\n"
      ],
      "metadata": {
        "colab": {
          "base_uri": "https://localhost:8080/"
        },
        "id": "eVm82BDdmpFw",
        "outputId": "5b6d6522-32de-4937-95c5-cfb706268abd"
      },
      "execution_count": 1,
      "outputs": [
        {
          "output_type": "stream",
          "name": "stdout",
          "text": [
            "Requirement already satisfied: torch in /usr/local/lib/python3.10/dist-packages (2.2.2)\n",
            "Requirement already satisfied: torchvision in /usr/local/lib/python3.10/dist-packages (0.17.2)\n",
            "Requirement already satisfied: filelock in /usr/local/lib/python3.10/dist-packages (from torch) (3.13.3)\n",
            "Requirement already satisfied: typing-extensions>=4.8.0 in /usr/local/lib/python3.10/dist-packages (from torch) (4.10.0)\n",
            "Requirement already satisfied: sympy in /usr/local/lib/python3.10/dist-packages (from torch) (1.12)\n",
            "Requirement already satisfied: networkx in /usr/local/lib/python3.10/dist-packages (from torch) (3.2.1)\n",
            "Requirement already satisfied: jinja2 in /usr/local/lib/python3.10/dist-packages (from torch) (3.1.3)\n",
            "Requirement already satisfied: fsspec in /usr/local/lib/python3.10/dist-packages (from torch) (2023.6.0)\n",
            "Requirement already satisfied: nvidia-cuda-nvrtc-cu12==12.1.105 in /usr/local/lib/python3.10/dist-packages (from torch) (12.1.105)\n",
            "Requirement already satisfied: nvidia-cuda-runtime-cu12==12.1.105 in /usr/local/lib/python3.10/dist-packages (from torch) (12.1.105)\n",
            "Requirement already satisfied: nvidia-cuda-cupti-cu12==12.1.105 in /usr/local/lib/python3.10/dist-packages (from torch) (12.1.105)\n",
            "Requirement already satisfied: nvidia-cudnn-cu12==8.9.2.26 in /usr/local/lib/python3.10/dist-packages (from torch) (8.9.2.26)\n",
            "Requirement already satisfied: nvidia-cublas-cu12==12.1.3.1 in /usr/local/lib/python3.10/dist-packages (from torch) (12.1.3.1)\n",
            "Requirement already satisfied: nvidia-cufft-cu12==11.0.2.54 in /usr/local/lib/python3.10/dist-packages (from torch) (11.0.2.54)\n",
            "Requirement already satisfied: nvidia-curand-cu12==10.3.2.106 in /usr/local/lib/python3.10/dist-packages (from torch) (10.3.2.106)\n",
            "Requirement already satisfied: nvidia-cusolver-cu12==11.4.5.107 in /usr/local/lib/python3.10/dist-packages (from torch) (11.4.5.107)\n",
            "Requirement already satisfied: nvidia-cusparse-cu12==12.1.0.106 in /usr/local/lib/python3.10/dist-packages (from torch) (12.1.0.106)\n",
            "Requirement already satisfied: nvidia-nccl-cu12==2.19.3 in /usr/local/lib/python3.10/dist-packages (from torch) (2.19.3)\n",
            "Requirement already satisfied: nvidia-nvtx-cu12==12.1.105 in /usr/local/lib/python3.10/dist-packages (from torch) (12.1.105)\n",
            "Requirement already satisfied: triton==2.2.0 in /usr/local/lib/python3.10/dist-packages (from torch) (2.2.0)\n",
            "Requirement already satisfied: nvidia-nvjitlink-cu12 in /usr/local/lib/python3.10/dist-packages (from nvidia-cusolver-cu12==11.4.5.107->torch) (12.4.99)\n",
            "Requirement already satisfied: numpy in /usr/local/lib/python3.10/dist-packages (from torchvision) (1.25.2)\n",
            "Requirement already satisfied: pillow!=8.3.*,>=5.3.0 in /usr/local/lib/python3.10/dist-packages (from torchvision) (9.4.0)\n",
            "Requirement already satisfied: MarkupSafe>=2.0 in /usr/local/lib/python3.10/dist-packages (from jinja2->torch) (2.1.5)\n",
            "Requirement already satisfied: mpmath>=0.19 in /usr/local/lib/python3.10/dist-packages (from sympy->torch) (1.3.0)\n"
          ]
        }
      ]
    },
    {
      "cell_type": "code",
      "source": [
        "!pip uninstall accelerate transformers -y\n",
        "!pip install accelerate transformers -U\n"
      ],
      "metadata": {
        "colab": {
          "base_uri": "https://localhost:8080/"
        },
        "id": "VWNaNgEkmzr4",
        "outputId": "edae8ee4-a57b-480d-e3cc-700b46daf53e"
      },
      "execution_count": 2,
      "outputs": [
        {
          "output_type": "stream",
          "name": "stdout",
          "text": [
            "Found existing installation: accelerate 0.28.0\n",
            "Uninstalling accelerate-0.28.0:\n",
            "  Successfully uninstalled accelerate-0.28.0\n",
            "Found existing installation: transformers 4.39.2\n",
            "Uninstalling transformers-4.39.2:\n",
            "  Successfully uninstalled transformers-4.39.2\n",
            "Collecting accelerate\n",
            "  Using cached accelerate-0.28.0-py3-none-any.whl (290 kB)\n",
            "Collecting transformers\n",
            "  Using cached transformers-4.39.2-py3-none-any.whl (8.8 MB)\n",
            "Requirement already satisfied: numpy>=1.17 in /usr/local/lib/python3.10/dist-packages (from accelerate) (1.25.2)\n",
            "Requirement already satisfied: packaging>=20.0 in /usr/local/lib/python3.10/dist-packages (from accelerate) (24.0)\n",
            "Requirement already satisfied: psutil in /usr/local/lib/python3.10/dist-packages (from accelerate) (5.9.5)\n",
            "Requirement already satisfied: pyyaml in /usr/local/lib/python3.10/dist-packages (from accelerate) (6.0.1)\n",
            "Requirement already satisfied: torch>=1.10.0 in /usr/local/lib/python3.10/dist-packages (from accelerate) (2.2.2)\n",
            "Requirement already satisfied: huggingface-hub in /usr/local/lib/python3.10/dist-packages (from accelerate) (0.20.3)\n",
            "Requirement already satisfied: safetensors>=0.3.1 in /usr/local/lib/python3.10/dist-packages (from accelerate) (0.4.2)\n",
            "Requirement already satisfied: filelock in /usr/local/lib/python3.10/dist-packages (from transformers) (3.13.3)\n",
            "Requirement already satisfied: regex!=2019.12.17 in /usr/local/lib/python3.10/dist-packages (from transformers) (2023.12.25)\n",
            "Requirement already satisfied: requests in /usr/local/lib/python3.10/dist-packages (from transformers) (2.31.0)\n",
            "Requirement already satisfied: tokenizers<0.19,>=0.14 in /usr/local/lib/python3.10/dist-packages (from transformers) (0.15.2)\n",
            "Requirement already satisfied: tqdm>=4.27 in /usr/local/lib/python3.10/dist-packages (from transformers) (4.66.2)\n",
            "Requirement already satisfied: fsspec>=2023.5.0 in /usr/local/lib/python3.10/dist-packages (from huggingface-hub->accelerate) (2023.6.0)\n",
            "Requirement already satisfied: typing-extensions>=3.7.4.3 in /usr/local/lib/python3.10/dist-packages (from huggingface-hub->accelerate) (4.10.0)\n",
            "Requirement already satisfied: sympy in /usr/local/lib/python3.10/dist-packages (from torch>=1.10.0->accelerate) (1.12)\n",
            "Requirement already satisfied: networkx in /usr/local/lib/python3.10/dist-packages (from torch>=1.10.0->accelerate) (3.2.1)\n",
            "Requirement already satisfied: jinja2 in /usr/local/lib/python3.10/dist-packages (from torch>=1.10.0->accelerate) (3.1.3)\n",
            "Requirement already satisfied: nvidia-cuda-nvrtc-cu12==12.1.105 in /usr/local/lib/python3.10/dist-packages (from torch>=1.10.0->accelerate) (12.1.105)\n",
            "Requirement already satisfied: nvidia-cuda-runtime-cu12==12.1.105 in /usr/local/lib/python3.10/dist-packages (from torch>=1.10.0->accelerate) (12.1.105)\n",
            "Requirement already satisfied: nvidia-cuda-cupti-cu12==12.1.105 in /usr/local/lib/python3.10/dist-packages (from torch>=1.10.0->accelerate) (12.1.105)\n",
            "Requirement already satisfied: nvidia-cudnn-cu12==8.9.2.26 in /usr/local/lib/python3.10/dist-packages (from torch>=1.10.0->accelerate) (8.9.2.26)\n",
            "Requirement already satisfied: nvidia-cublas-cu12==12.1.3.1 in /usr/local/lib/python3.10/dist-packages (from torch>=1.10.0->accelerate) (12.1.3.1)\n",
            "Requirement already satisfied: nvidia-cufft-cu12==11.0.2.54 in /usr/local/lib/python3.10/dist-packages (from torch>=1.10.0->accelerate) (11.0.2.54)\n",
            "Requirement already satisfied: nvidia-curand-cu12==10.3.2.106 in /usr/local/lib/python3.10/dist-packages (from torch>=1.10.0->accelerate) (10.3.2.106)\n",
            "Requirement already satisfied: nvidia-cusolver-cu12==11.4.5.107 in /usr/local/lib/python3.10/dist-packages (from torch>=1.10.0->accelerate) (11.4.5.107)\n",
            "Requirement already satisfied: nvidia-cusparse-cu12==12.1.0.106 in /usr/local/lib/python3.10/dist-packages (from torch>=1.10.0->accelerate) (12.1.0.106)\n",
            "Requirement already satisfied: nvidia-nccl-cu12==2.19.3 in /usr/local/lib/python3.10/dist-packages (from torch>=1.10.0->accelerate) (2.19.3)\n",
            "Requirement already satisfied: nvidia-nvtx-cu12==12.1.105 in /usr/local/lib/python3.10/dist-packages (from torch>=1.10.0->accelerate) (12.1.105)\n",
            "Requirement already satisfied: triton==2.2.0 in /usr/local/lib/python3.10/dist-packages (from torch>=1.10.0->accelerate) (2.2.0)\n",
            "Requirement already satisfied: nvidia-nvjitlink-cu12 in /usr/local/lib/python3.10/dist-packages (from nvidia-cusolver-cu12==11.4.5.107->torch>=1.10.0->accelerate) (12.4.99)\n",
            "Requirement already satisfied: charset-normalizer<4,>=2 in /usr/local/lib/python3.10/dist-packages (from requests->transformers) (3.3.2)\n",
            "Requirement already satisfied: idna<4,>=2.5 in /usr/local/lib/python3.10/dist-packages (from requests->transformers) (3.6)\n",
            "Requirement already satisfied: urllib3<3,>=1.21.1 in /usr/local/lib/python3.10/dist-packages (from requests->transformers) (2.0.7)\n",
            "Requirement already satisfied: certifi>=2017.4.17 in /usr/local/lib/python3.10/dist-packages (from requests->transformers) (2024.2.2)\n",
            "Requirement already satisfied: MarkupSafe>=2.0 in /usr/local/lib/python3.10/dist-packages (from jinja2->torch>=1.10.0->accelerate) (2.1.5)\n",
            "Requirement already satisfied: mpmath>=0.19 in /usr/local/lib/python3.10/dist-packages (from sympy->torch>=1.10.0->accelerate) (1.3.0)\n",
            "Installing collected packages: transformers, accelerate\n",
            "Successfully installed accelerate-0.28.0 transformers-4.39.2\n"
          ]
        }
      ]
    },
    {
      "cell_type": "code",
      "source": [
        "from transformers import Trainer, default_data_collator\n",
        "from transformers import FlaxAutoModelForQuestionAnswering , AutoTokenizer\n",
        "\n",
        "# define model name and tokenizer name\n",
        "model_name = \"parsbert-finetuned-persianQA\"\n",
        "\n",
        "\n",
        "#load model and tokenizer\n",
        "#model = AutoModelForQuestionAnswering.from_pretrained(model_name)\n",
        "#tokenizer = AutoTokenizer.from_pretrained(toke)\n",
        "args = TrainingArguments(\n",
        "    model_name,\n",
        "    evaluation_strategy = \"epoch\",\n",
        "    learning_rate=2e-5,\n",
        "    per_device_train_batch_size=5,\n",
        "    per_device_eval_batch_size=5,\n",
        "    num_train_epochs=3,\n",
        "    weight_decay=0.01,\n",
        "    push_to_hub=True,\n",
        "    save_steps=5000\n",
        ")\n",
        "\n",
        "data_collator = default_data_collator\n",
        "\n",
        "trainer = Trainer(\n",
        "    model.to(device),\n",
        "    args,\n",
        "    train_dataset = tokenized_datasets[\"train\"],\n",
        "    eval_dataset = tokenized_datasets[\"validation\"],\n",
        "    data_collator = data_collator,\n",
        "    tokenizer = tokenizer\n",
        ")\n",
        "\n",
        "trainer.train()"
      ],
      "metadata": {
        "colab": {
          "base_uri": "https://localhost:8080/",
          "height": 280
        },
        "id": "ns6DwUasrC8m",
        "outputId": "39366cdd-9209-4461-afae-b41b53da6b6f"
      },
      "execution_count": 46,
      "outputs": [
        {
          "output_type": "stream",
          "name": "stderr",
          "text": [
            "/usr/local/lib/python3.10/dist-packages/accelerate/accelerator.py:432: FutureWarning: Passing the following arguments to `Accelerator` is deprecated and will be removed in version 1.0 of Accelerate: dict_keys(['dispatch_batches', 'split_batches', 'even_batches', 'use_seedable_sampler']). Please pass an `accelerate.DataLoaderConfiguration` instead: \n",
            "dataloader_config = DataLoaderConfiguration(dispatch_batches=None, split_batches=False, even_batches=True, use_seedable_sampler=True)\n",
            "  warnings.warn(\n"
          ]
        },
        {
          "output_type": "display_data",
          "data": {
            "text/plain": [
              "<IPython.core.display.HTML object>"
            ],
            "text/html": [
              "\n",
              "    <div>\n",
              "      \n",
              "      <progress value='5523' max='5523' style='width:300px; height:20px; vertical-align: middle;'></progress>\n",
              "      [5523/5523 37:06, Epoch 3/3]\n",
              "    </div>\n",
              "    <table border=\"1\" class=\"dataframe\">\n",
              "  <thead>\n",
              " <tr style=\"text-align: left;\">\n",
              "      <th>Epoch</th>\n",
              "      <th>Training Loss</th>\n",
              "      <th>Validation Loss</th>\n",
              "    </tr>\n",
              "  </thead>\n",
              "  <tbody>\n",
              "    <tr>\n",
              "      <td>1</td>\n",
              "      <td>2.882000</td>\n",
              "      <td>2.424150</td>\n",
              "    </tr>\n",
              "    <tr>\n",
              "      <td>2</td>\n",
              "      <td>2.087100</td>\n",
              "      <td>2.244498</td>\n",
              "    </tr>\n",
              "    <tr>\n",
              "      <td>3</td>\n",
              "      <td>1.430800</td>\n",
              "      <td>2.358090</td>\n",
              "    </tr>\n",
              "  </tbody>\n",
              "</table><p>"
            ]
          },
          "metadata": {}
        },
        {
          "output_type": "execute_result",
          "data": {
            "text/plain": [
              "TrainOutput(global_step=5523, training_loss=2.270387092146907, metrics={'train_runtime': 2229.7524, 'train_samples_per_second': 12.385, 'train_steps_per_second': 2.477, 'total_flos': 5411782452948480.0, 'train_loss': 2.270387092146907, 'epoch': 3.0})"
            ]
          },
          "metadata": {},
          "execution_count": 46
        }
      ]
    },
    {
      "cell_type": "code",
      "source": [
        "import torch\n",
        "\n",
        "for batch in trainer.get_eval_dataloader():\n",
        "    break\n",
        "batch = {k: v.to(trainer.args.device) for k, v in batch.items()}\n",
        "with torch.no_grad():\n",
        "    output = trainer.model(**batch)\n",
        "output.keys()"
      ],
      "metadata": {
        "id": "e_V_e3V-RkEy",
        "colab": {
          "base_uri": "https://localhost:8080/"
        },
        "outputId": "5a17b7df-a3a7-4ef9-da46-eb5c9315d7fe"
      },
      "execution_count": 49,
      "outputs": [
        {
          "output_type": "execute_result",
          "data": {
            "text/plain": [
              "odict_keys(['loss', 'start_logits', 'end_logits'])"
            ]
          },
          "metadata": {},
          "execution_count": 49
        }
      ]
    },
    {
      "cell_type": "code",
      "source": [
        "output.start_logits.shape , output.end_logits.shape"
      ],
      "metadata": {
        "colab": {
          "base_uri": "https://localhost:8080/"
        },
        "id": "PpU-5vRZ5m_J",
        "outputId": "144132ce-a206-47b7-94d0-f2f003e2e4bb"
      },
      "execution_count": 50,
      "outputs": [
        {
          "output_type": "execute_result",
          "data": {
            "text/plain": [
              "(torch.Size([5, 384]), torch.Size([5, 384]))"
            ]
          },
          "metadata": {},
          "execution_count": 50
        }
      ]
    },
    {
      "cell_type": "code",
      "source": [
        "output.start_logits.argmax(dim = -1) , output.end_logits.argmax (dim = -1)"
      ],
      "metadata": {
        "colab": {
          "base_uri": "https://localhost:8080/"
        },
        "id": "UcPiFvhk5yRo",
        "outputId": "f481ff58-5db2-43ad-f84f-8e6b2f448553"
      },
      "execution_count": 52,
      "outputs": [
        {
          "output_type": "execute_result",
          "data": {
            "text/plain": [
              "(tensor([ 19,  62, 128, 157,  21], device='cuda:0'),\n",
              " tensor([ 19,  62, 137, 159,  24], device='cuda:0'))"
            ]
          },
          "metadata": {},
          "execution_count": 52
        }
      ]
    },
    {
      "cell_type": "code",
      "source": [
        "n_best_size = 20"
      ],
      "metadata": {
        "id": "SSqcMmCa6MAB"
      },
      "execution_count": 53,
      "outputs": []
    },
    {
      "cell_type": "code",
      "source": [
        "import numpy as np\n",
        "\n",
        "start_logits = output.start_logits[0].cpu().numpy()\n",
        "end_logits = output.end_logits[0].cpu().numpy()\n",
        "\n",
        "start_indexes = np.argsort(start_logits)[-1 : -n_best_size - 1 : -1].tolist()\n",
        "end_indexes = np.argsort(end_logits)[-1 : -n_best_size - 1 : -1].tolist()\n",
        "\n",
        "valid_answers = []\n",
        "for start_index in start_indexes:\n",
        "  for end_index in end_indexes:\n",
        "    if start_index <= end_index:\n",
        "      valid_answers.append(\n",
        "          {\n",
        "              \"score\" : start_logits[start_index] + end_logits[end_index] ,\n",
        "              \"text\" : \"\"\n",
        "          }\n",
        "      )"
      ],
      "metadata": {
        "id": "J9G4kxs86RT_"
      },
      "execution_count": 54,
      "outputs": []
    },
    {
      "cell_type": "code",
      "source": [
        "def prepare_validation_features(examples):\n",
        "    examples[\"question\"] = [q.lstrip() for q in examples[\"question\"]]\n",
        "    tokenized_examples = tokenizer(\n",
        "        examples[\"question\" if pad_on_right else \"context\"],\n",
        "        examples[\"context\" if pad_on_right else \"question\"],\n",
        "        truncation=\"only_second\" if pad_on_right else \"only_first\",\n",
        "        max_length=max_length,\n",
        "        stride=doc_stride,\n",
        "        return_overflowing_tokens=True,\n",
        "        return_offsets_mapping=True,\n",
        "        padding=\"max_length\",\n",
        "    )\n",
        "\n",
        "    sample_mapping = tokenized_examples.pop(\"overflow_to_sample_mapping\")\n",
        "    tokenized_examples[\"example_id\"] = []\n",
        "\n",
        "    for i in range(len(tokenized_examples[\"input_ids\"])):\n",
        "        sequence_ids = tokenized_examples.sequence_ids(i)\n",
        "        context_index = 1 if pad_on_right else 0\n",
        "        sample_index = sample_mapping[i]\n",
        "        tokenized_examples[\"example_id\"].append(examples[\"id\"][sample_index])\n",
        "\n",
        "        tokenized_examples[\"offset_mapping\"][i] = [\n",
        "            (o if sequence_ids[k] == context_index else None)\n",
        "            for k, o in enumerate(tokenized_examples[\"offset_mapping\"][i])\n",
        "        ]\n",
        "\n",
        "    return tokenized_examples"
      ],
      "metadata": {
        "id": "wUZlXxri8C8k"
      },
      "execution_count": 55,
      "outputs": []
    },
    {
      "cell_type": "code",
      "source": [
        "validation_features = datasets[\"validation\"].map(\n",
        "    prepare_validation_features,\n",
        "    batched=True,\n",
        "    remove_columns=datasets[\"validation\"].column_names\n",
        ")"
      ],
      "metadata": {
        "colab": {
          "base_uri": "https://localhost:8080/",
          "height": 49,
          "referenced_widgets": [
            "3557f4961ea847f9912fa6b2bbd82f1d",
            "afe1f8b64dc343c1aa4f27f871dd87ec",
            "553c97b4054c4653a5ba483259de4e0d",
            "7b646b1ec8da4562bc29da4ecf5cabe1",
            "c3bf3a3021144e8eb89677e72d289693",
            "2b61f21dc6c548428ba20891fb72e82b",
            "1fb0fbae0e8c44c7991b51151a74c978",
            "b000d477683e4e42ba747df45264324f",
            "977ff802093a43d7a09c191abe462eb1",
            "73f44b5bd7324cdb880adb924603d9cc",
            "e39bb82498fa42c297d09ca11c76b468"
          ]
        },
        "id": "7TpsEodw8G0y",
        "outputId": "f8c8b3a7-a79d-46a6-9e5e-e173ad948f29"
      },
      "execution_count": 56,
      "outputs": [
        {
          "output_type": "display_data",
          "data": {
            "text/plain": [
              "Map:   0%|          | 0/930 [00:00<?, ? examples/s]"
            ],
            "application/vnd.jupyter.widget-view+json": {
              "version_major": 2,
              "version_minor": 0,
              "model_id": "3557f4961ea847f9912fa6b2bbd82f1d"
            }
          },
          "metadata": {}
        }
      ]
    },
    {
      "cell_type": "code",
      "source": [
        "raw_predictions = trainer.predict(validation_features)\n"
      ],
      "metadata": {
        "colab": {
          "base_uri": "https://localhost:8080/",
          "height": 17
        },
        "id": "nI25Ih2B8KwM",
        "outputId": "e89bdcbf-a32e-4685-a512-abede431e4c7"
      },
      "execution_count": 57,
      "outputs": [
        {
          "output_type": "display_data",
          "data": {
            "text/plain": [
              "<IPython.core.display.HTML object>"
            ],
            "text/html": []
          },
          "metadata": {}
        }
      ]
    },
    {
      "cell_type": "code",
      "source": [
        "validation_features.set_format(type=validation_features.format[\"type\"], columns=list(validation_features.features.keys()))\n",
        "max_answer_length = 30\n"
      ],
      "metadata": {
        "id": "TApoDPVb8NzG"
      },
      "execution_count": 58,
      "outputs": []
    },
    {
      "cell_type": "code",
      "source": [
        "start_logits = output.start_logits[0].cpu().numpy()\n",
        "end_logits = output.end_logits[0].cpu().numpy()\n",
        "offset_mapping = validation_features[0][\"offset_mapping\"]\n",
        "context = datasets[\"validation\"][0][\"context\"]\n",
        "start_indexes = np.argsort(start_logits)[-1 : -n_best_size - 1 : -1].tolist()\n",
        "end_indexes = np.argsort(end_logits)[-1 : -n_best_size - 1 : -1].tolist()\n",
        "valid_answers = []\n",
        "for start_index in start_indexes:\n",
        "    for end_index in end_indexes:\n",
        "        if (\n",
        "            start_index >= len(offset_mapping)\n",
        "            or end_index >= len(offset_mapping)\n",
        "            or offset_mapping[start_index] is None\n",
        "            or offset_mapping[end_index] is None\n",
        "        ):\n",
        "            continue\n",
        "        if end_index < start_index or end_index - start_index + 1 > max_answer_length:\n",
        "            continue\n",
        "        if start_index <= end_index:\n",
        "            start_char = offset_mapping[start_index][0]\n",
        "            end_char = offset_mapping[end_index][1]\n",
        "            valid_answers.append(\n",
        "                {\n",
        "                    \"score\": start_logits[start_index] + end_logits[end_index],\n",
        "                    \"text\": context[start_char: end_char]\n",
        "                }\n",
        "            )\n",
        "\n",
        "valid_answers = sorted(valid_answers, key=lambda x: x[\"score\"], reverse=True)[:n_best_size]\n",
        "valid_answers"
      ],
      "metadata": {
        "colab": {
          "base_uri": "https://localhost:8080/"
        },
        "id": "NyYGYuDT8RwX",
        "outputId": "c93b84c8-de2d-4cba-cd7d-7ba54714685b"
      },
      "execution_count": 59,
      "outputs": [
        {
          "output_type": "execute_result",
          "data": {
            "text/plain": [
              "[{'score': 14.389643, 'text': 'مادرید'},\n",
              " {'score': 12.133005, 'text': 'در مادرید'},\n",
              " {'score': 11.992829,\n",
              "  'text': 'رئال مادرید یک باشگاه حرفه\\u200cای فوتبال است که در مادرید'},\n",
              " {'score': 11.970998,\n",
              "  'text': 'باشگاه فوتبال رئال مادرید یک باشگاه حرفه\\u200cای فوتبال است که در مادرید'},\n",
              " {'score': 11.476729,\n",
              "  'text': 'مادرید یک باشگاه حرفه\\u200cای فوتبال است که در مادرید'},\n",
              " {'score': 10.117722, 'text': 'رئال مادرید'},\n",
              " {'score': 10.09589, 'text': 'باشگاه فوتبال رئال مادرید'},\n",
              " {'score': 9.601622, 'text': 'مادرید'},\n",
              " {'score': 9.188358, 'text': 'یک باشگاه حرفه\\u200cای فوتبال است که در مادرید'},\n",
              " {'score': 8.788071, 'text': 'مادرید، پایتخت اسپانیا قرار دارد.'},\n",
              " {'score': 8.344689, 'text': 'مادرید، پایتخت اسپانیا قرار دارد'},\n",
              " {'score': 7.7260566, 'text': 'باشگاه حرفه\\u200cای فوتبال است که در مادرید'},\n",
              " {'score': 7.324646, 'text': 'مادرید،'},\n",
              " {'score': 6.5314345, 'text': 'در مادرید، پایتخت اسپانیا قرار دارد.'},\n",
              " {'score': 6.3968377, 'text': 'مادرید، پایتخت اسپانیا'},\n",
              " {'score': 6.3912582,\n",
              "  'text': 'رئال مادرید یک باشگاه حرفه\\u200cای فوتبال است که در مادرید، پایتخت اسپانیا قرار دارد.'},\n",
              " {'score': 6.3694267,\n",
              "  'text': 'باشگاه فوتبال رئال مادرید یک باشگاه حرفه\\u200cای فوتبال است که در مادرید، پایتخت اسپانیا قرار دارد.'},\n",
              " {'score': 6.0880527, 'text': 'در مادرید، پایتخت اسپانیا قرار دارد'},\n",
              " {'score': 5.9478765,\n",
              "  'text': 'رئال مادرید یک باشگاه حرفه\\u200cای فوتبال است که در مادرید، پایتخت اسپانیا قرار دارد'},\n",
              " {'score': 5.926045,\n",
              "  'text': 'باشگاه فوتبال رئال مادرید یک باشگاه حرفه\\u200cای فوتبال است که در مادرید، پایتخت اسپانیا قرار دارد'}]"
            ]
          },
          "metadata": {},
          "execution_count": 59
        }
      ]
    },
    {
      "cell_type": "code",
      "source": [
        "import collections\n",
        "\n",
        "examples = datasets[\"validation\"]\n",
        "features = validation_features\n",
        "\n",
        "example_id_to_index = {k: i for i, k in enumerate(examples[\"id\"])}\n",
        "features_per_example = collections.defaultdict(list)\n",
        "for i, feature in enumerate(features):\n",
        "    features_per_example[example_id_to_index[feature[\"example_id\"]]].append(i)"
      ],
      "metadata": {
        "id": "CiaRPUVk8bFV"
      },
      "execution_count": 60,
      "outputs": []
    },
    {
      "cell_type": "code",
      "source": [
        "from tqdm.auto import tqdm\n",
        "\n",
        "def postprocess_qa_predictions(examples, features, raw_predictions, n_best_size = 20, max_answer_length = 30):\n",
        "    all_start_logits, all_end_logits = raw_predictions\n",
        "    example_id_to_index = {k: i for i, k in enumerate(examples[\"id\"])}\n",
        "    features_per_example = collections.defaultdict(list)\n",
        "    for i, feature in enumerate(features):\n",
        "        features_per_example[example_id_to_index[feature[\"example_id\"]]].append(i)\n",
        "    predictions = collections.OrderedDict()\n",
        "\n",
        "\n",
        "    print(f\"Post-processing {len(examples)} example predictions split into {len(features)} features.\")\n",
        "\n",
        "    for example_index, example in enumerate(tqdm(examples)):\n",
        "        feature_indices = features_per_example[example_index]\n",
        "\n",
        "        min_null_score = None\n",
        "        valid_answers = []\n",
        "\n",
        "        context = example[\"context\"]\n",
        "        for feature_index in feature_indices:\n",
        "            start_logits = all_start_logits[feature_index]\n",
        "            end_logits = all_end_logits[feature_index]\n",
        "            offset_mapping = features[feature_index][\"offset_mapping\"]\n",
        "\n",
        "            cls_index = features[feature_index][\"input_ids\"].index(tokenizer.cls_token_id)\n",
        "            feature_null_score = start_logits[cls_index] + end_logits[cls_index]\n",
        "            if min_null_score is None or min_null_score < feature_null_score:\n",
        "                min_null_score = feature_null_score\n",
        "\n",
        "            start_indexes = np.argsort(start_logits)[-1 : -n_best_size - 1 : -1].tolist()\n",
        "            end_indexes = np.argsort(end_logits)[-1 : -n_best_size - 1 : -1].tolist()\n",
        "            for start_index in start_indexes:\n",
        "                for end_index in end_indexes:\n",
        "                    if (\n",
        "                        start_index >= len(offset_mapping)\n",
        "                        or end_index >= len(offset_mapping)\n",
        "                        or offset_mapping[start_index] is None\n",
        "                        or offset_mapping[end_index] is None\n",
        "                    ):\n",
        "                        continue\n",
        "                    if end_index < start_index or end_index - start_index + 1 > max_answer_length:\n",
        "                        continue\n",
        "\n",
        "                    start_char = offset_mapping[start_index][0]\n",
        "                    end_char = offset_mapping[end_index][1]\n",
        "                    valid_answers.append(\n",
        "                        {\n",
        "                            \"score\": start_logits[start_index] + end_logits[end_index],\n",
        "                            \"text\": context[start_char: end_char]\n",
        "                        }\n",
        "                    )\n",
        "\n",
        "        if len(valid_answers) > 0:\n",
        "            best_answer = sorted(valid_answers, key=lambda x: x[\"score\"], reverse=True)[0]\n",
        "        else:\n",
        "            best_answer = {\"text\": \"\", \"score\": 0.0}\n",
        "\n",
        "        answer = best_answer[\"text\"] if best_answer[\"score\"] > min_null_score else \"\"\n",
        "        predictions[example[\"id\"]] = answer\n",
        "\n",
        "    return predictions"
      ],
      "metadata": {
        "id": "xXDfytuO8hlR"
      },
      "execution_count": 61,
      "outputs": []
    },
    {
      "cell_type": "code",
      "source": [
        "final_predictions = postprocess_qa_predictions(datasets[\"validation\"], validation_features, raw_predictions.predictions)\n"
      ],
      "metadata": {
        "colab": {
          "base_uri": "https://localhost:8080/",
          "height": 67,
          "referenced_widgets": [
            "7b05e8e9068a43c59e0e6be1163fb00f",
            "c15db60fc0dd442c84c508072c7d52a4",
            "ca8e4f5e7a61421b98e34f88258782a9",
            "295f8931481d4028a4c90142b37b4dcc",
            "b1f10c2083d547a89108033ec0558535",
            "a44d71f0525d41d191bb26168c792128",
            "1fdb8d60649e407392af65c220dc5b7c",
            "f71057e3145c43e4a879c7c1f1ee7bb1",
            "f82df7a9d43b4245b85a8def9cddb111",
            "3adc269cdf764ed5b99b272c14589ac6",
            "9f876a005c7447ca8cc3303640e12002"
          ]
        },
        "id": "pSR72BJC8lUM",
        "outputId": "77d901bc-f86f-4320-c794-72a946d5a4cc"
      },
      "execution_count": 62,
      "outputs": [
        {
          "output_type": "stream",
          "name": "stdout",
          "text": [
            "Post-processing 930 example predictions split into 930 features.\n"
          ]
        },
        {
          "output_type": "display_data",
          "data": {
            "text/plain": [
              "  0%|          | 0/930 [00:00<?, ?it/s]"
            ],
            "application/vnd.jupyter.widget-view+json": {
              "version_major": 2,
              "version_minor": 0,
              "model_id": "7b05e8e9068a43c59e0e6be1163fb00f"
            }
          },
          "metadata": {}
        }
      ]
    },
    {
      "cell_type": "code",
      "source": [
        "from datasets import load_metric\n",
        "metric = load_metric(\"squad_v2\")\n",
        "formatted_predictions = [{\"id\": k, \"prediction_text\": v, \"no_answer_probability\": 0.0} for k, v in final_predictions.items()]"
      ],
      "metadata": {
        "colab": {
          "base_uri": "https://localhost:8080/",
          "height": 210,
          "referenced_widgets": [
            "847e021b5b1440aeafefe0e87afae8fe",
            "c96e1854d6ec43b7be0ae7c13596238c",
            "1046fba210d4413b9eb295bcc6927e5c",
            "d3341222441c43b5b5d3c7bcd25fb45b",
            "48e0053b18654ca7be4b56752b641948",
            "8217e6dbf6974aafb4ae27f0d417e24f",
            "0a18e7f96a614d509219c7a97a58fc5a",
            "9c6d03c99ca04bf8b456d143a80fe736",
            "e17311ad2f314415a869d4c7a3940031",
            "934e6ed54f054f46b352749e02c69942",
            "c949c1c04e7b4b3cbb2d8f25a0ac2361",
            "ed2d296c15b94c0c85fe9a0dae40c798",
            "36010462bcfb43fb8715d84de726b8a0",
            "567448e5be064e73b6b78fb4c0bac361",
            "b03345ec664346258e48e00918f99018",
            "2d73acf0a10641f1b49b16475d0a84e3",
            "0dadd48bdf14402d9ae5ddf992ceee47",
            "0d8a81df72694444914159b178dd0f54",
            "7fb07981fc7a4d16840a62e09e8f4497",
            "fec0e18e67d948489cb7d78dff8c6e27",
            "c5aa83082cd34249a27dbbeb417f622a",
            "a5d86a70a6a940a8b4d00d3f8ac49684"
          ]
        },
        "id": "GzaTinNo8n5B",
        "outputId": "d34e9d02-07da-425c-f268-fddab03fa529"
      },
      "execution_count": 64,
      "outputs": [
        {
          "output_type": "stream",
          "name": "stderr",
          "text": [
            "<ipython-input-64-b5c491321e97>:2: FutureWarning: load_metric is deprecated and will be removed in the next major version of datasets. Use 'evaluate.load' instead, from the new library 🤗 Evaluate: https://huggingface.co/docs/evaluate\n",
            "  metric = load_metric(\"squad_v2\")\n",
            "/usr/local/lib/python3.10/dist-packages/datasets/load.py:756: FutureWarning: The repository for squad_v2 contains custom code which must be executed to correctly load the metric. You can inspect the repository content at https://raw.githubusercontent.com/huggingface/datasets/2.18.0/metrics/squad_v2/squad_v2.py\n",
            "You can avoid this message in future by passing the argument `trust_remote_code=True`.\n",
            "Passing `trust_remote_code=True` will be mandatory to load this metric from the next major release of `datasets`.\n",
            "  warnings.warn(\n"
          ]
        },
        {
          "output_type": "display_data",
          "data": {
            "text/plain": [
              "Downloading builder script:   0%|          | 0.00/2.25k [00:00<?, ?B/s]"
            ],
            "application/vnd.jupyter.widget-view+json": {
              "version_major": 2,
              "version_minor": 0,
              "model_id": "847e021b5b1440aeafefe0e87afae8fe"
            }
          },
          "metadata": {}
        },
        {
          "output_type": "display_data",
          "data": {
            "text/plain": [
              "Downloading extra modules:   0%|          | 0.00/3.19k [00:00<?, ?B/s]"
            ],
            "application/vnd.jupyter.widget-view+json": {
              "version_major": 2,
              "version_minor": 0,
              "model_id": "ed2d296c15b94c0c85fe9a0dae40c798"
            }
          },
          "metadata": {}
        }
      ]
    },
    {
      "cell_type": "code",
      "source": [
        "references = [{\"id\": ex[\"id\"], \"answers\": ex[\"answers\"]} for ex in datasets[\"validation\"]]\n",
        "metric.compute(predictions=formatted_predictions, references=references)"
      ],
      "metadata": {
        "colab": {
          "base_uri": "https://localhost:8080/"
        },
        "id": "FJt2MKQV8_l2",
        "outputId": "157b2c22-457a-4be5-868a-64a9c9d13f84"
      },
      "execution_count": 65,
      "outputs": [
        {
          "output_type": "execute_result",
          "data": {
            "text/plain": [
              "{'exact': 40.75268817204301,\n",
              " 'f1': 56.707707774863785,\n",
              " 'total': 930,\n",
              " 'HasAns_exact': 30.568356374807987,\n",
              " 'HasAns_f1': 53.36124152169485,\n",
              " 'HasAns_total': 651,\n",
              " 'NoAns_exact': 64.51612903225806,\n",
              " 'NoAns_f1': 64.51612903225806,\n",
              " 'NoAns_total': 279,\n",
              " 'best_exact': 40.96774193548387,\n",
              " 'best_exact_thresh': 0.0,\n",
              " 'best_f1': 56.922761538304655,\n",
              " 'best_f1_thresh': 0.0}"
            ]
          },
          "metadata": {},
          "execution_count": 65
        }
      ]
    }
  ]
}